{
 "cells": [
  {
   "cell_type": "code",
   "execution_count": 2,
   "id": "eefb2064",
   "metadata": {},
   "outputs": [
    {
     "name": "stderr",
     "output_type": "stream",
     "text": [
      "C:\\Users\\hcy\\anaconda3\\lib\\site-packages\\past\\builtins\\misc.py:45: DeprecationWarning: the imp module is deprecated in favour of importlib; see the module's documentation for alternative uses\n",
      "  from imp import reload\n"
     ]
    },
    {
     "data": {
      "text/html": [
       "<div>\n",
       "<style scoped>\n",
       "    .dataframe tbody tr th:only-of-type {\n",
       "        vertical-align: middle;\n",
       "    }\n",
       "\n",
       "    .dataframe tbody tr th {\n",
       "        vertical-align: top;\n",
       "    }\n",
       "\n",
       "    .dataframe thead th {\n",
       "        text-align: right;\n",
       "    }\n",
       "</style>\n",
       "<table border=\"1\" class=\"dataframe\">\n",
       "  <thead>\n",
       "    <tr style=\"text-align: right;\">\n",
       "      <th></th>\n",
       "      <th>tweet_id</th>\n",
       "      <th>airline_sentiment</th>\n",
       "      <th>airline_sentiment_confidence</th>\n",
       "      <th>negativereason</th>\n",
       "      <th>negativereason_confidence</th>\n",
       "      <th>airline</th>\n",
       "      <th>airline_sentiment_gold</th>\n",
       "      <th>name</th>\n",
       "      <th>negativereason_gold</th>\n",
       "      <th>retweet_count</th>\n",
       "      <th>text</th>\n",
       "      <th>tweet_coord</th>\n",
       "      <th>tweet_created</th>\n",
       "      <th>tweet_location</th>\n",
       "      <th>user_timezone</th>\n",
       "    </tr>\n",
       "  </thead>\n",
       "  <tbody>\n",
       "    <tr>\n",
       "      <th>0</th>\n",
       "      <td>570306133677760513</td>\n",
       "      <td>neutral</td>\n",
       "      <td>1.0000</td>\n",
       "      <td>NaN</td>\n",
       "      <td>NaN</td>\n",
       "      <td>Virgin America</td>\n",
       "      <td>NaN</td>\n",
       "      <td>cairdin</td>\n",
       "      <td>NaN</td>\n",
       "      <td>0</td>\n",
       "      <td>@VirginAmerica What @dhepburn said.</td>\n",
       "      <td>NaN</td>\n",
       "      <td>2015-02-24 11:35:52 -0800</td>\n",
       "      <td>NaN</td>\n",
       "      <td>Eastern Time (US &amp; Canada)</td>\n",
       "    </tr>\n",
       "    <tr>\n",
       "      <th>1</th>\n",
       "      <td>570301130888122368</td>\n",
       "      <td>positive</td>\n",
       "      <td>0.3486</td>\n",
       "      <td>NaN</td>\n",
       "      <td>0.0000</td>\n",
       "      <td>Virgin America</td>\n",
       "      <td>NaN</td>\n",
       "      <td>jnardino</td>\n",
       "      <td>NaN</td>\n",
       "      <td>0</td>\n",
       "      <td>@VirginAmerica plus you've added commercials t...</td>\n",
       "      <td>NaN</td>\n",
       "      <td>2015-02-24 11:15:59 -0800</td>\n",
       "      <td>NaN</td>\n",
       "      <td>Pacific Time (US &amp; Canada)</td>\n",
       "    </tr>\n",
       "    <tr>\n",
       "      <th>2</th>\n",
       "      <td>570301083672813571</td>\n",
       "      <td>neutral</td>\n",
       "      <td>0.6837</td>\n",
       "      <td>NaN</td>\n",
       "      <td>NaN</td>\n",
       "      <td>Virgin America</td>\n",
       "      <td>NaN</td>\n",
       "      <td>yvonnalynn</td>\n",
       "      <td>NaN</td>\n",
       "      <td>0</td>\n",
       "      <td>@VirginAmerica I didn't today... Must mean I n...</td>\n",
       "      <td>NaN</td>\n",
       "      <td>2015-02-24 11:15:48 -0800</td>\n",
       "      <td>Lets Play</td>\n",
       "      <td>Central Time (US &amp; Canada)</td>\n",
       "    </tr>\n",
       "    <tr>\n",
       "      <th>3</th>\n",
       "      <td>570301031407624196</td>\n",
       "      <td>negative</td>\n",
       "      <td>1.0000</td>\n",
       "      <td>Bad Flight</td>\n",
       "      <td>0.7033</td>\n",
       "      <td>Virgin America</td>\n",
       "      <td>NaN</td>\n",
       "      <td>jnardino</td>\n",
       "      <td>NaN</td>\n",
       "      <td>0</td>\n",
       "      <td>@VirginAmerica it's really aggressive to blast...</td>\n",
       "      <td>NaN</td>\n",
       "      <td>2015-02-24 11:15:36 -0800</td>\n",
       "      <td>NaN</td>\n",
       "      <td>Pacific Time (US &amp; Canada)</td>\n",
       "    </tr>\n",
       "    <tr>\n",
       "      <th>4</th>\n",
       "      <td>570300817074462722</td>\n",
       "      <td>negative</td>\n",
       "      <td>1.0000</td>\n",
       "      <td>Can't Tell</td>\n",
       "      <td>1.0000</td>\n",
       "      <td>Virgin America</td>\n",
       "      <td>NaN</td>\n",
       "      <td>jnardino</td>\n",
       "      <td>NaN</td>\n",
       "      <td>0</td>\n",
       "      <td>@VirginAmerica and it's a really big bad thing...</td>\n",
       "      <td>NaN</td>\n",
       "      <td>2015-02-24 11:14:45 -0800</td>\n",
       "      <td>NaN</td>\n",
       "      <td>Pacific Time (US &amp; Canada)</td>\n",
       "    </tr>\n",
       "  </tbody>\n",
       "</table>\n",
       "</div>"
      ],
      "text/plain": [
       "             tweet_id airline_sentiment  airline_sentiment_confidence  \\\n",
       "0  570306133677760513           neutral                        1.0000   \n",
       "1  570301130888122368          positive                        0.3486   \n",
       "2  570301083672813571           neutral                        0.6837   \n",
       "3  570301031407624196          negative                        1.0000   \n",
       "4  570300817074462722          negative                        1.0000   \n",
       "\n",
       "  negativereason  negativereason_confidence         airline  \\\n",
       "0            NaN                        NaN  Virgin America   \n",
       "1            NaN                     0.0000  Virgin America   \n",
       "2            NaN                        NaN  Virgin America   \n",
       "3     Bad Flight                     0.7033  Virgin America   \n",
       "4     Can't Tell                     1.0000  Virgin America   \n",
       "\n",
       "  airline_sentiment_gold        name negativereason_gold  retweet_count  \\\n",
       "0                    NaN     cairdin                 NaN              0   \n",
       "1                    NaN    jnardino                 NaN              0   \n",
       "2                    NaN  yvonnalynn                 NaN              0   \n",
       "3                    NaN    jnardino                 NaN              0   \n",
       "4                    NaN    jnardino                 NaN              0   \n",
       "\n",
       "                                                text tweet_coord  \\\n",
       "0                @VirginAmerica What @dhepburn said.         NaN   \n",
       "1  @VirginAmerica plus you've added commercials t...         NaN   \n",
       "2  @VirginAmerica I didn't today... Must mean I n...         NaN   \n",
       "3  @VirginAmerica it's really aggressive to blast...         NaN   \n",
       "4  @VirginAmerica and it's a really big bad thing...         NaN   \n",
       "\n",
       "               tweet_created tweet_location               user_timezone  \n",
       "0  2015-02-24 11:35:52 -0800            NaN  Eastern Time (US & Canada)  \n",
       "1  2015-02-24 11:15:59 -0800            NaN  Pacific Time (US & Canada)  \n",
       "2  2015-02-24 11:15:48 -0800      Lets Play  Central Time (US & Canada)  \n",
       "3  2015-02-24 11:15:36 -0800            NaN  Pacific Time (US & Canada)  \n",
       "4  2015-02-24 11:14:45 -0800            NaN  Pacific Time (US & Canada)  "
      ]
     },
     "execution_count": 2,
     "metadata": {},
     "output_type": "execute_result"
    }
   ],
   "source": [
    "import numpy as np\n",
    "import pandas as pd\n",
    "import re\n",
    "import nltk\n",
    "from nltk.corpus import stopwords\n",
    "import matplotlib.pyplot as plt\n",
    "from sklearn.feature_extraction.text import CountVectorizer\n",
    "from sklearn.decomposition import LatentDirichletAllocation\n",
    "from nltk.corpus import stopwords\n",
    "import gensim\n",
    "import gensim.corpora as corpora\n",
    "from gensim.utils import simple_preprocess\n",
    "from gensim.models import CoherenceModel\n",
    "import pyLDAvis\n",
    "import pyLDAvis.gensim_models as gensimvis\n",
    "import pyLDAvis.gensim_models\n",
    "data = pd.read_csv('Tweets.csv',header=0)\n",
    "data.head()"
   ]
  },
  {
   "cell_type": "code",
   "execution_count": 3,
   "id": "9b62231c",
   "metadata": {},
   "outputs": [],
   "source": [
    "overall_data = data[['airline','airline_sentiment']].groupby(['airline','airline_sentiment']).agg({'airline_sentiment':'count'})"
   ]
  },
  {
   "cell_type": "markdown",
   "id": "7d90a2f8",
   "metadata": {},
   "source": [
    "## diving into labeled data, we can get some layout of airline_sentiment acrossing different airline companies. United airline has highest number of negative sentiments (comments)."
   ]
  },
  {
   "cell_type": "code",
   "execution_count": 4,
   "id": "fe0d7dd1",
   "metadata": {},
   "outputs": [
    {
     "data": {
      "text/html": [
       "<div>\n",
       "<style scoped>\n",
       "    .dataframe tbody tr th:only-of-type {\n",
       "        vertical-align: middle;\n",
       "    }\n",
       "\n",
       "    .dataframe tbody tr th {\n",
       "        vertical-align: top;\n",
       "    }\n",
       "\n",
       "    .dataframe thead th {\n",
       "        text-align: right;\n",
       "    }\n",
       "</style>\n",
       "<table border=\"1\" class=\"dataframe\">\n",
       "  <thead>\n",
       "    <tr style=\"text-align: right;\">\n",
       "      <th></th>\n",
       "      <th></th>\n",
       "      <th>airline_sentiment</th>\n",
       "    </tr>\n",
       "    <tr>\n",
       "      <th>airline</th>\n",
       "      <th>airline_sentiment</th>\n",
       "      <th></th>\n",
       "    </tr>\n",
       "  </thead>\n",
       "  <tbody>\n",
       "    <tr>\n",
       "      <th rowspan=\"3\" valign=\"top\">American</th>\n",
       "      <th>negative</th>\n",
       "      <td>1960</td>\n",
       "    </tr>\n",
       "    <tr>\n",
       "      <th>neutral</th>\n",
       "      <td>463</td>\n",
       "    </tr>\n",
       "    <tr>\n",
       "      <th>positive</th>\n",
       "      <td>336</td>\n",
       "    </tr>\n",
       "    <tr>\n",
       "      <th rowspan=\"3\" valign=\"top\">Delta</th>\n",
       "      <th>negative</th>\n",
       "      <td>955</td>\n",
       "    </tr>\n",
       "    <tr>\n",
       "      <th>neutral</th>\n",
       "      <td>723</td>\n",
       "    </tr>\n",
       "    <tr>\n",
       "      <th>positive</th>\n",
       "      <td>544</td>\n",
       "    </tr>\n",
       "    <tr>\n",
       "      <th rowspan=\"3\" valign=\"top\">Southwest</th>\n",
       "      <th>negative</th>\n",
       "      <td>1186</td>\n",
       "    </tr>\n",
       "    <tr>\n",
       "      <th>neutral</th>\n",
       "      <td>664</td>\n",
       "    </tr>\n",
       "    <tr>\n",
       "      <th>positive</th>\n",
       "      <td>570</td>\n",
       "    </tr>\n",
       "    <tr>\n",
       "      <th rowspan=\"3\" valign=\"top\">US Airways</th>\n",
       "      <th>negative</th>\n",
       "      <td>2263</td>\n",
       "    </tr>\n",
       "    <tr>\n",
       "      <th>neutral</th>\n",
       "      <td>381</td>\n",
       "    </tr>\n",
       "    <tr>\n",
       "      <th>positive</th>\n",
       "      <td>269</td>\n",
       "    </tr>\n",
       "    <tr>\n",
       "      <th rowspan=\"3\" valign=\"top\">United</th>\n",
       "      <th>negative</th>\n",
       "      <td>2633</td>\n",
       "    </tr>\n",
       "    <tr>\n",
       "      <th>neutral</th>\n",
       "      <td>697</td>\n",
       "    </tr>\n",
       "    <tr>\n",
       "      <th>positive</th>\n",
       "      <td>492</td>\n",
       "    </tr>\n",
       "    <tr>\n",
       "      <th rowspan=\"3\" valign=\"top\">Virgin America</th>\n",
       "      <th>negative</th>\n",
       "      <td>181</td>\n",
       "    </tr>\n",
       "    <tr>\n",
       "      <th>neutral</th>\n",
       "      <td>171</td>\n",
       "    </tr>\n",
       "    <tr>\n",
       "      <th>positive</th>\n",
       "      <td>152</td>\n",
       "    </tr>\n",
       "  </tbody>\n",
       "</table>\n",
       "</div>"
      ],
      "text/plain": [
       "                                  airline_sentiment\n",
       "airline        airline_sentiment                   \n",
       "American       negative                        1960\n",
       "               neutral                          463\n",
       "               positive                         336\n",
       "Delta          negative                         955\n",
       "               neutral                          723\n",
       "               positive                         544\n",
       "Southwest      negative                        1186\n",
       "               neutral                          664\n",
       "               positive                         570\n",
       "US Airways     negative                        2263\n",
       "               neutral                          381\n",
       "               positive                         269\n",
       "United         negative                        2633\n",
       "               neutral                          697\n",
       "               positive                         492\n",
       "Virgin America negative                         181\n",
       "               neutral                          171\n",
       "               positive                         152"
      ]
     },
     "execution_count": 4,
     "metadata": {},
     "output_type": "execute_result"
    }
   ],
   "source": [
    "overall_data"
   ]
  },
  {
   "cell_type": "markdown",
   "id": "6ab9fcc3",
   "metadata": {},
   "source": [
    "## get each airline corresponding total number of airline_sentiment"
   ]
  },
  {
   "cell_type": "code",
   "execution_count": 5,
   "id": "af91e5cc",
   "metadata": {},
   "outputs": [
    {
     "data": {
      "text/html": [
       "<div>\n",
       "<style scoped>\n",
       "    .dataframe tbody tr th:only-of-type {\n",
       "        vertical-align: middle;\n",
       "    }\n",
       "\n",
       "    .dataframe tbody tr th {\n",
       "        vertical-align: top;\n",
       "    }\n",
       "\n",
       "    .dataframe thead th {\n",
       "        text-align: right;\n",
       "    }\n",
       "</style>\n",
       "<table border=\"1\" class=\"dataframe\">\n",
       "  <thead>\n",
       "    <tr style=\"text-align: right;\">\n",
       "      <th></th>\n",
       "      <th>airline_sentiment</th>\n",
       "    </tr>\n",
       "    <tr>\n",
       "      <th>airline</th>\n",
       "      <th></th>\n",
       "    </tr>\n",
       "  </thead>\n",
       "  <tbody>\n",
       "    <tr>\n",
       "      <th>American</th>\n",
       "      <td>2759</td>\n",
       "    </tr>\n",
       "    <tr>\n",
       "      <th>Delta</th>\n",
       "      <td>2222</td>\n",
       "    </tr>\n",
       "    <tr>\n",
       "      <th>Southwest</th>\n",
       "      <td>2420</td>\n",
       "    </tr>\n",
       "    <tr>\n",
       "      <th>US Airways</th>\n",
       "      <td>2913</td>\n",
       "    </tr>\n",
       "    <tr>\n",
       "      <th>United</th>\n",
       "      <td>3822</td>\n",
       "    </tr>\n",
       "    <tr>\n",
       "      <th>Virgin America</th>\n",
       "      <td>504</td>\n",
       "    </tr>\n",
       "  </tbody>\n",
       "</table>\n",
       "</div>"
      ],
      "text/plain": [
       "                airline_sentiment\n",
       "airline                          \n",
       "American                     2759\n",
       "Delta                        2222\n",
       "Southwest                    2420\n",
       "US Airways                   2913\n",
       "United                       3822\n",
       "Virgin America                504"
      ]
     },
     "execution_count": 5,
     "metadata": {},
     "output_type": "execute_result"
    }
   ],
   "source": [
    "overall_data1 = data[['airline','airline_sentiment']].groupby(['airline']).agg({'airline_sentiment':'count'})\n",
    "overall_data1"
   ]
  },
  {
   "cell_type": "code",
   "execution_count": 6,
   "id": "161ec402",
   "metadata": {},
   "outputs": [],
   "source": [
    "data1=data\n",
    "neg_portion_Ame=data1[(data1['airline']=='American') & (data1['airline_sentiment']=='negative')]['airline_sentiment'].count()/\\\n",
    "data1[data1['airline']=='American']['airline_sentiment'].count()\n",
    "\n",
    "neg_portion_Delta=data1[(data1['airline']=='Delta') & (data1['airline_sentiment']=='negative')]['airline_sentiment'].count()/\\\n",
    "data1[data1['airline']=='Delta']['airline_sentiment'].count()\n",
    "\n",
    "neg_portion_Southwest=data1[(data1['airline']=='Southwest') & (data1['airline_sentiment']=='negative')]['airline_sentiment'].count()/\\\n",
    "data1[data1['airline']=='Southwest']['airline_sentiment'].count()\n",
    "\n",
    "neg_portion_USAirways=data1[(data1['airline']=='US Airways') & (data1['airline_sentiment']=='negative')]['airline_sentiment'].count()/\\\n",
    "data1[data1['airline']=='US Airways']['airline_sentiment'].count()\n",
    "\n",
    "neg_portion_United=data1[(data1['airline']=='United') & (data1['airline_sentiment']=='negative')]['airline_sentiment'].count()/\\\n",
    "data1[data1['airline']=='United']['airline_sentiment'].count()\n",
    "\n",
    "neg_portion_Virgin=data1[(data1['airline']=='Virgin America') & (data1['airline_sentiment']=='negative')]['airline_sentiment'].count()/\\\n",
    "data1[data1['airline']=='Virgin America']['airline_sentiment'].count()"
   ]
  },
  {
   "cell_type": "markdown",
   "id": "f51af7a5",
   "metadata": {},
   "source": [
    "## find out portion of negtive sentiment in different airlines, data in the below shows  USA airways has highest portion of negtive sentiments. Delta and Southwest preform very well in negtive sentiments."
   ]
  },
  {
   "cell_type": "code",
   "execution_count": 7,
   "id": "bb9441e3",
   "metadata": {},
   "outputs": [
    {
     "data": {
      "text/html": [
       "<div>\n",
       "<style scoped>\n",
       "    .dataframe tbody tr th:only-of-type {\n",
       "        vertical-align: middle;\n",
       "    }\n",
       "\n",
       "    .dataframe tbody tr th {\n",
       "        vertical-align: top;\n",
       "    }\n",
       "\n",
       "    .dataframe thead th {\n",
       "        text-align: right;\n",
       "    }\n",
       "</style>\n",
       "<table border=\"1\" class=\"dataframe\">\n",
       "  <thead>\n",
       "    <tr style=\"text-align: right;\">\n",
       "      <th></th>\n",
       "      <th>neg_portion</th>\n",
       "      <th>portion</th>\n",
       "    </tr>\n",
       "  </thead>\n",
       "  <tbody>\n",
       "    <tr>\n",
       "      <th>0</th>\n",
       "      <td>neg_portion_Ame</td>\n",
       "      <td>0.710402</td>\n",
       "    </tr>\n",
       "    <tr>\n",
       "      <th>1</th>\n",
       "      <td>neg_portion_Delta</td>\n",
       "      <td>0.429793</td>\n",
       "    </tr>\n",
       "    <tr>\n",
       "      <th>2</th>\n",
       "      <td>neg_portion_Southwest</td>\n",
       "      <td>0.490083</td>\n",
       "    </tr>\n",
       "    <tr>\n",
       "      <th>3</th>\n",
       "      <td>neg_portion_USAirways</td>\n",
       "      <td>0.776862</td>\n",
       "    </tr>\n",
       "    <tr>\n",
       "      <th>4</th>\n",
       "      <td>neg_portion_United</td>\n",
       "      <td>0.688906</td>\n",
       "    </tr>\n",
       "    <tr>\n",
       "      <th>5</th>\n",
       "      <td>neg_portion_Virgin</td>\n",
       "      <td>0.359127</td>\n",
       "    </tr>\n",
       "  </tbody>\n",
       "</table>\n",
       "</div>"
      ],
      "text/plain": [
       "             neg_portion   portion\n",
       "0        neg_portion_Ame  0.710402\n",
       "1      neg_portion_Delta  0.429793\n",
       "2  neg_portion_Southwest  0.490083\n",
       "3  neg_portion_USAirways  0.776862\n",
       "4     neg_portion_United  0.688906\n",
       "5     neg_portion_Virgin  0.359127"
      ]
     },
     "execution_count": 7,
     "metadata": {},
     "output_type": "execute_result"
    }
   ],
   "source": [
    "dic1={}\n",
    "dic1['neg_portion_Ame']=neg_portion_Ame\n",
    "dic1['neg_portion_Delta']=neg_portion_Delta\n",
    "dic1['neg_portion_Southwest']=neg_portion_Southwest\n",
    "dic1['neg_portion_USAirways']=neg_portion_USAirways\n",
    "dic1['neg_portion_United']=neg_portion_United\n",
    "dic1['neg_portion_Virgin']=neg_portion_Virgin\n",
    "dic1_datafram = pd.DataFrame(dic1,index=[0]).T\n",
    "dic1_datafram=dic1_datafram.reset_index()\n",
    "dic1_datafram=dic1_datafram.rename(columns={'index':'neg_portion',0:'portion'})\n",
    "dic1_datafram"
   ]
  },
  {
   "cell_type": "markdown",
   "id": "6f413293",
   "metadata": {},
   "source": [
    "## Visualizing previsous data, US Airway has quite high negative sentiment precentage."
   ]
  },
  {
   "cell_type": "code",
   "execution_count": 8,
   "id": "608a8f8b",
   "metadata": {},
   "outputs": [
    {
     "data": {
      "image/png": "[encoded data removed]",
      "text/plain": [
       "<Figure size 1500x1000 with 1 Axes>"
      ]
     },
     "metadata": {},
     "output_type": "display_data"
    }
   ],
   "source": [
    "figure_2 = data.groupby(['airline', 'airline_sentiment']).size()\n",
    "figure_2.unstack().plot(kind='bar', stacked=True, figsize=(15,10))\n",
    "plt.xlabel('airline')\n",
    "plt.ylabel('number of comments')\n",
    "plt.show()"
   ]
  },
  {
   "cell_type": "markdown",
   "id": "2c80e0ce",
   "metadata": {},
   "source": [
    "## After digging more in negative reason, the highest one is customer serive issue, and it's reasonable that companies which have higher customer serive issue also have more negative sentiments."
   ]
  },
  {
   "cell_type": "code",
   "execution_count": 9,
   "id": "d4ad0146",
   "metadata": {},
   "outputs": [
    {
     "data": {
      "image/png": "[encoded data removed]",
      "text/plain": [
       "<Figure size 2200x1200 with 1 Axes>"
      ]
     },
     "metadata": {},
     "output_type": "display_data"
    }
   ],
   "source": [
    "negative_reasons = data.groupby('airline')['negativereason'].value_counts(ascending=True)\n",
    "negative_reasons.groupby(['airline','negativereason']).sum().unstack().plot(kind='bar',figsize=(22,12))\n",
    "plt.xlabel('Airline Company')\n",
    "plt.ylabel('Number of Negative reasons')\n",
    "plt.title(\"The number of the count of negative reasons for airlines\")\n",
    "plt.show()"
   ]
  },
  {
   "cell_type": "markdown",
   "id": "8bc514d5",
   "metadata": {},
   "source": [
    "## Then, we begin to do modeling. At first, we slice data from orignial one and get data we need to put into modeling."
   ]
  },
  {
   "cell_type": "code",
   "execution_count": 10,
   "id": "6e7e0e4b",
   "metadata": {},
   "outputs": [
    {
     "data": {
      "text/html": [
       "<div>\n",
       "<style scoped>\n",
       "    .dataframe tbody tr th:only-of-type {\n",
       "        vertical-align: middle;\n",
       "    }\n",
       "\n",
       "    .dataframe tbody tr th {\n",
       "        vertical-align: top;\n",
       "    }\n",
       "\n",
       "    .dataframe thead th {\n",
       "        text-align: right;\n",
       "    }\n",
       "</style>\n",
       "<table border=\"1\" class=\"dataframe\">\n",
       "  <thead>\n",
       "    <tr style=\"text-align: right;\">\n",
       "      <th></th>\n",
       "      <th>text</th>\n",
       "      <th>airline_sentiment</th>\n",
       "    </tr>\n",
       "  </thead>\n",
       "  <tbody>\n",
       "    <tr>\n",
       "      <th>0</th>\n",
       "      <td>@VirginAmerica What @dhepburn said.</td>\n",
       "      <td>neutral</td>\n",
       "    </tr>\n",
       "    <tr>\n",
       "      <th>1</th>\n",
       "      <td>@VirginAmerica plus you've added commercials t...</td>\n",
       "      <td>positive</td>\n",
       "    </tr>\n",
       "    <tr>\n",
       "      <th>2</th>\n",
       "      <td>@VirginAmerica I didn't today... Must mean I n...</td>\n",
       "      <td>neutral</td>\n",
       "    </tr>\n",
       "    <tr>\n",
       "      <th>3</th>\n",
       "      <td>@VirginAmerica it's really aggressive to blast...</td>\n",
       "      <td>negative</td>\n",
       "    </tr>\n",
       "    <tr>\n",
       "      <th>4</th>\n",
       "      <td>@VirginAmerica and it's a really big bad thing...</td>\n",
       "      <td>negative</td>\n",
       "    </tr>\n",
       "  </tbody>\n",
       "</table>\n",
       "</div>"
      ],
      "text/plain": [
       "                                                text airline_sentiment\n",
       "0                @VirginAmerica What @dhepburn said.           neutral\n",
       "1  @VirginAmerica plus you've added commercials t...          positive\n",
       "2  @VirginAmerica I didn't today... Must mean I n...           neutral\n",
       "3  @VirginAmerica it's really aggressive to blast...          negative\n",
       "4  @VirginAmerica and it's a really big bad thing...          negative"
      ]
     },
     "execution_count": 10,
     "metadata": {},
     "output_type": "execute_result"
    }
   ],
   "source": [
    "get_data = data[['text','airline_sentiment']]\n",
    "get_data.head()"
   ]
  },
  {
   "cell_type": "markdown",
   "id": "94c25367",
   "metadata": {},
   "source": [
    "## We do text cleaning, to remove stopwords, '@', punctuation, lower text and tokenize text to words."
   ]
  },
  {
   "cell_type": "code",
   "execution_count": 11,
   "id": "c1ed5cb4",
   "metadata": {},
   "outputs": [],
   "source": [
    "#text processing\n",
    "def remove_stopwords(input_text):\n",
    "    stopwords_list = stopwords.words('english')\n",
    "    #some words might give us something important for the sentiment analysis like not, so we keep them\n",
    "    wl = [\"not\", \"no\"]\n",
    "    words = input_text.split() \n",
    "    clean_words = [word for word in words if (word not in stopwords_list or word in wl) and len(word) > 1] \n",
    "    return \" \".join(clean_words)\n",
    "\n",
    "def remove_mentions(input_text):\n",
    "    for i in range(len(input_text)):\n",
    "        input_text[i] = re.sub(r'@\\w+', '', input_text[i])\n",
    "    return input_text\n",
    "\n",
    "def lower_case(input_text):\n",
    "    for i in range(len(input_text)):\n",
    "        input_text[i] = input_text[i].lower()\n",
    "    return input_text\n",
    "\n",
    "def remove_http(input_text):\n",
    "    for i in range(len(input_text)):\n",
    "        input_text[i] = re.sub(r'https?\\S+', '',input_text[i])\n",
    "    return input_text\n",
    "\n",
    "def remove_punctuation(input_text):\n",
    "    for i in range(len(input_text)):\n",
    "        input_text[i] = re.sub(r'[^\\w\\s]','',input_text[i])\n",
    "    return input_text\n",
    "def remove_first_twowords(input_text):\n",
    "    for i in range(len(input_text)):\n",
    "        input_text[i] = re.sub(r'^[A-Za-z]* [A-Za-z]*','',input_text[i])\n",
    "    return input_text"
   ]
  },
  {
   "cell_type": "code",
   "execution_count": 12,
   "id": "708b3102",
   "metadata": {},
   "outputs": [],
   "source": [
    "preprocessed_data = get_data.apply(remove_mentions).apply(remove_http).apply(remove_punctuation).apply(lower_case)\n",
    "clean_text = []\n",
    "for tweet in preprocessed_data.text:\n",
    "    clean = remove_stopwords(tweet)\n",
    "    clean_text.append(clean)\n",
    "\n",
    "X = clean_text\n",
    "Y = preprocessed_data['airline_sentiment']\n",
    "\n",
    "from sklearn.model_selection import train_test_split\n",
    "Y = Y.map({'negative':0, 'positive':1, 'neutral':2}).astype(int)\n",
    "X_train,X_test,y_train,y_test = train_test_split(X, Y, test_size=0.1, random_state=42)"
   ]
  },
  {
   "cell_type": "markdown",
   "id": "22f974cf",
   "metadata": {},
   "source": [
    "## Here is cleaned text data."
   ]
  },
  {
   "cell_type": "code",
   "execution_count": 13,
   "id": "7f614684",
   "metadata": {},
   "outputs": [
    {
     "data": {
      "text/html": [
       "<div>\n",
       "<style scoped>\n",
       "    .dataframe tbody tr th:only-of-type {\n",
       "        vertical-align: middle;\n",
       "    }\n",
       "\n",
       "    .dataframe tbody tr th {\n",
       "        vertical-align: top;\n",
       "    }\n",
       "\n",
       "    .dataframe thead th {\n",
       "        text-align: right;\n",
       "    }\n",
       "</style>\n",
       "<table border=\"1\" class=\"dataframe\">\n",
       "  <thead>\n",
       "    <tr style=\"text-align: right;\">\n",
       "      <th></th>\n",
       "      <th>text</th>\n",
       "      <th>airline_sentiment</th>\n",
       "    </tr>\n",
       "  </thead>\n",
       "  <tbody>\n",
       "    <tr>\n",
       "      <th>0</th>\n",
       "      <td>said</td>\n",
       "      <td>neutral</td>\n",
       "    </tr>\n",
       "    <tr>\n",
       "      <th>1</th>\n",
       "      <td>plus youve added commercials experience tacky</td>\n",
       "      <td>positive</td>\n",
       "    </tr>\n",
       "    <tr>\n",
       "      <th>2</th>\n",
       "      <td>didnt today must mean need take another trip</td>\n",
       "      <td>neutral</td>\n",
       "    </tr>\n",
       "    <tr>\n",
       "      <th>3</th>\n",
       "      <td>really aggressive blast obnoxious entertainmen...</td>\n",
       "      <td>negative</td>\n",
       "    </tr>\n",
       "    <tr>\n",
       "      <th>4</th>\n",
       "      <td>really big bad thing</td>\n",
       "      <td>negative</td>\n",
       "    </tr>\n",
       "    <tr>\n",
       "      <th>...</th>\n",
       "      <td>...</td>\n",
       "      <td>...</td>\n",
       "    </tr>\n",
       "    <tr>\n",
       "      <th>14635</th>\n",
       "      <td>thank got different flight chicago</td>\n",
       "      <td>positive</td>\n",
       "    </tr>\n",
       "    <tr>\n",
       "      <th>14636</th>\n",
       "      <td>leaving 20 minutes late flight no warnings com...</td>\n",
       "      <td>negative</td>\n",
       "    </tr>\n",
       "    <tr>\n",
       "      <th>14637</th>\n",
       "      <td>please bring american airlines blackberry10</td>\n",
       "      <td>neutral</td>\n",
       "    </tr>\n",
       "    <tr>\n",
       "      <th>14638</th>\n",
       "      <td>money change flight dont answer phones suggest...</td>\n",
       "      <td>negative</td>\n",
       "    </tr>\n",
       "    <tr>\n",
       "      <th>14639</th>\n",
       "      <td>ppl need know many seats next flight plz put u...</td>\n",
       "      <td>neutral</td>\n",
       "    </tr>\n",
       "  </tbody>\n",
       "</table>\n",
       "<p>14640 rows × 2 columns</p>\n",
       "</div>"
      ],
      "text/plain": [
       "                                                    text airline_sentiment\n",
       "0                                                   said           neutral\n",
       "1          plus youve added commercials experience tacky          positive\n",
       "2           didnt today must mean need take another trip           neutral\n",
       "3      really aggressive blast obnoxious entertainmen...          negative\n",
       "4                                   really big bad thing          negative\n",
       "...                                                  ...               ...\n",
       "14635                 thank got different flight chicago          positive\n",
       "14636  leaving 20 minutes late flight no warnings com...          negative\n",
       "14637        please bring american airlines blackberry10           neutral\n",
       "14638  money change flight dont answer phones suggest...          negative\n",
       "14639  ppl need know many seats next flight plz put u...           neutral\n",
       "\n",
       "[14640 rows x 2 columns]"
      ]
     },
     "execution_count": 13,
     "metadata": {},
     "output_type": "execute_result"
    }
   ],
   "source": [
    "clean_text1= pd.DataFrame(clean_text)\n",
    "preprocessed_data['text']=clean_text1\n",
    "preprocessed_data"
   ]
  },
  {
   "cell_type": "markdown",
   "id": "f25adaaa",
   "metadata": {},
   "source": [
    "## Check data balance, we find our data is skewed data, we have more negative data than other two categories"
   ]
  },
  {
   "cell_type": "code",
   "execution_count": 14,
   "id": "8625242f",
   "metadata": {},
   "outputs": [
    {
     "data": {
      "text/plain": [
       "negative    9178\n",
       "neutral     3099\n",
       "positive    2363\n",
       "Name: airline_sentiment, dtype: int64"
      ]
     },
     "execution_count": 14,
     "metadata": {},
     "output_type": "execute_result"
    }
   ],
   "source": [
    "preprocessed_data['airline_sentiment'].value_counts()"
   ]
  },
  {
   "cell_type": "code",
   "execution_count": 15,
   "id": "434dfa0b",
   "metadata": {},
   "outputs": [
    {
     "data": {
      "text/plain": [
       "0    9178\n",
       "2    3099\n",
       "1    2363\n",
       "Name: airline_sentiment, dtype: int64"
      ]
     },
     "execution_count": 15,
     "metadata": {},
     "output_type": "execute_result"
    }
   ],
   "source": [
    "Y.value_counts()"
   ]
  },
  {
   "cell_type": "markdown",
   "id": "730b9988",
   "metadata": {},
   "source": [
    "## Covert to dtm dataframe, we set mid_df = 10, since too small mid_df bring us lots words that unrelated. In this way, we get top 10 words, since it's a big data, most words have very small dtm."
   ]
  },
  {
   "cell_type": "code",
   "execution_count": 16,
   "id": "2358eb99",
   "metadata": {},
   "outputs": [
    {
     "name": "stdout",
     "output_type": "stream",
     "text": [
      "size of tfidf matrix: (14640, 1756)\n"
     ]
    }
   ],
   "source": [
    "from sklearn.feature_extraction.text import TfidfVectorizer\n",
    "tfidf_vect = TfidfVectorizer(min_df=10)\n",
    "dtm = tfidf_vect.fit_transform(preprocessed_data['text'])\n",
    "print(\"size of tfidf matrix:\", dtm.shape)"
   ]
  },
  {
   "cell_type": "markdown",
   "id": "b1c98b25",
   "metadata": {},
   "source": [
    "## Do one more step to deal with skewed data, we use oversampling technique SMOTE here to get balanced data and do a test late"
   ]
  },
  {
   "cell_type": "code",
   "execution_count": 17,
   "id": "b1db8759",
   "metadata": {},
   "outputs": [
    {
     "data": {
      "text/plain": [
       "neutral     9178\n",
       "positive    9178\n",
       "negative    9178\n",
       "Name: airline_sentiment, dtype: int64"
      ]
     },
     "execution_count": 17,
     "metadata": {},
     "output_type": "execute_result"
    }
   ],
   "source": [
    "from imblearn.over_sampling import SMOTE\n",
    "smote = SMOTE(sampling_strategy='not majority')\n",
    "X_sm,y_sm=smote.fit_resample(dtm,preprocessed_data['airline_sentiment'])\n",
    "y_sm.value_counts()"
   ]
  },
  {
   "cell_type": "code",
   "execution_count": 18,
   "id": "cf901165",
   "metadata": {},
   "outputs": [
    {
     "data": {
      "text/plain": [
       "2    9178\n",
       "1    9178\n",
       "0    9178\n",
       "Name: airline_sentiment, dtype: int64"
      ]
     },
     "execution_count": 18,
     "metadata": {},
     "output_type": "execute_result"
    }
   ],
   "source": [
    "smote = SMOTE(sampling_strategy='not majority')\n",
    "X_sm1,y_sm1=smote.fit_resample(dtm,Y)\n",
    "y_sm1.value_counts()"
   ]
  },
  {
   "cell_type": "code",
   "execution_count": 19,
   "id": "a7300eab",
   "metadata": {},
   "outputs": [
    {
     "data": {
      "text/plain": [
       "(27534, 1756)"
      ]
     },
     "execution_count": 19,
     "metadata": {},
     "output_type": "execute_result"
    }
   ],
   "source": [
    "X_sm.shape"
   ]
  },
  {
   "cell_type": "code",
   "execution_count": 20,
   "id": "74079b1f",
   "metadata": {},
   "outputs": [
    {
     "data": {
      "text/plain": [
       "(27534,)"
      ]
     },
     "execution_count": 20,
     "metadata": {},
     "output_type": "execute_result"
    }
   ],
   "source": [
    "y_sm.shape"
   ]
  },
  {
   "cell_type": "code",
   "execution_count": 21,
   "id": "1bbfa12f",
   "metadata": {},
   "outputs": [
    {
     "name": "stdout",
     "output_type": "stream",
     "text": [
      "\n",
      "Original text: \n",
      "said\n",
      "\n",
      "tfidf weights: \n",
      "\n",
      "Vectorized document shape:  (1756,) \n",
      "\n",
      "top words:\n",
      "said:\t1.000\n",
      "zero:\t0.000\n",
      "false:\t0.000\n",
      "family:\t0.000\n",
      "fan:\t0.000\n",
      "fantastic:\t0.000\n",
      "far:\t0.000\n",
      "fare:\t0.000\n",
      "fares:\t0.000\n",
      "fast:\t0.000\n",
      "faster:\t0.000\n",
      "fault:\t0.000\n",
      "favorite:\t0.000\n",
      "fb:\t0.000\n",
      "feature:\t0.000\n",
      "feb:\t0.000\n",
      "february:\t0.000\n",
      "fee:\t0.000\n",
      "feedback:\t0.000\n",
      "feel:\t0.000\n"
     ]
    }
   ],
   "source": [
    "voc_lookup={tfidf_vect.vocabulary_[word]:word \\\n",
    "            for word in tfidf_vect.vocabulary_}\n",
    "\n",
    "print(\"\\nOriginal text: \\n\"+preprocessed_data[\"text\"][0])\n",
    "\n",
    "print(\"\\ntfidf weights: \\n\")\n",
    "doc0=dtm[0].toarray()[0]\n",
    "print(\"Vectorized document shape: \", doc0.shape, \"\\n\")\n",
    "\n",
    "# get index of top 20 words\n",
    "print(\"top words:\")\n",
    "top_words=(doc0.argsort())[::-1][0:20]\n",
    "for i in top_words:\n",
    "    print(\"{0}:\\t{1:.3f}\".format(voc_lookup[i], doc0[i]))"
   ]
  },
  {
   "cell_type": "markdown",
   "id": "ab5a5f11",
   "metadata": {},
   "source": [
    "## Try our first model, the result in the bayes model is not bad.Because in business, most significant part is to find out neative comments and make optimizations on reality. In this case, negative recall will be the measure that we focus on, our model have pretty good negative recall. (we use original data here)"
   ]
  },
  {
   "cell_type": "code",
   "execution_count": 22,
   "id": "bab4fbfa",
   "metadata": {},
   "outputs": [],
   "source": [
    "from sklearn.naive_bayes import MultinomialNB\n",
    "from sklearn.model_selection import train_test_split\n",
    "from sklearn.metrics import precision_recall_fscore_support\n",
    "from sklearn.metrics import classification_report\n",
    "from sklearn.model_selection import GridSearchCV\n",
    "X_train, X_test, y_train, y_test = train_test_split(\\\n",
    "                dtm, preprocessed_data[\"airline_sentiment\"], test_size=0.3,\\\n",
    "                    random_state=0)\n",
    "clf = MultinomialNB().fit(X_train, y_train)\n",
    "predicted=clf.predict(X_test)"
   ]
  },
  {
   "cell_type": "markdown",
   "id": "594118ce",
   "metadata": {},
   "source": [
    "## Meanwhile, we use balanced data to create another model to compare"
   ]
  },
  {
   "cell_type": "code",
   "execution_count": 23,
   "id": "9d14ba7f",
   "metadata": {},
   "outputs": [],
   "source": [
    "X_train1, X_test1, y_train1, y_test1 = train_test_split(\\\n",
    "                X_sm, y_sm, test_size=0.3,\\\n",
    "                    random_state=0)\n",
    "clf1 = MultinomialNB().fit(X_train1, y_train1)\n",
    "predicted1=clf1.predict(X_test1)"
   ]
  },
  {
   "cell_type": "code",
   "execution_count": 24,
   "id": "dae90934",
   "metadata": {},
   "outputs": [
    {
     "name": "stdout",
     "output_type": "stream",
     "text": [
      "              precision    recall  f1-score   support\n",
      "\n",
      "    negative       0.74      0.97      0.84      2788\n",
      "     neutral       0.68      0.28      0.39       919\n",
      "    positive       0.85      0.45      0.59       685\n",
      "\n",
      "    accuracy                           0.75      4392\n",
      "   macro avg       0.76      0.57      0.61      4392\n",
      "weighted avg       0.74      0.75      0.71      4392\n",
      "\n",
      "accuracy of model: 0.7452185792349727\n"
     ]
    }
   ],
   "source": [
    "print(classification_report(y_test, predicted))\n",
    "print('accuracy of model:',clf.score(X_test,y_test))"
   ]
  },
  {
   "cell_type": "markdown",
   "id": "d3a2a6c3",
   "metadata": {},
   "source": [
    "## Clearly, we can tell balanced data perform better than original one. We may sacrifice some performance on negative category, but the other two categories enhance way much more then before, so we are going to use balanced data in following model."
   ]
  },
  {
   "cell_type": "code",
   "execution_count": 36,
   "id": "b0cfa191",
   "metadata": {},
   "outputs": [
    {
     "name": "stdout",
     "output_type": "stream",
     "text": [
      "              precision    recall  f1-score   support\n",
      "\n",
      "    negative       0.76      0.80      0.78      2752\n",
      "     neutral       0.74      0.66      0.70      2780\n",
      "    positive       0.79      0.83      0.81      2729\n",
      "\n",
      "    accuracy                           0.76      8261\n",
      "   macro avg       0.76      0.76      0.76      8261\n",
      "weighted avg       0.76      0.76      0.76      8261\n",
      "\n",
      "accuracy of model: 0.7641931969495218\n"
     ]
    }
   ],
   "source": [
    "print(classification_report(y_test1, predicted1))\n",
    "print('accuracy of model:',clf1.score(X_test1,y_test1))"
   ]
  },
  {
   "cell_type": "markdown",
   "id": "80af6552",
   "metadata": {},
   "source": [
    "## WE want to give it a try and pay more attention to f1 score. Here, we use cross validation to find best hyperparameter and use them to rebuild model. Finally, our model perform better on f1-score than previous one."
   ]
  },
  {
   "cell_type": "code",
   "execution_count": 26,
   "id": "ce7735f4",
   "metadata": {},
   "outputs": [],
   "source": [
    "param_grid1 = [\n",
    "\n",
    "    {\n",
    "        'alpha':[0.1,0.2,0.3,0.4,0.5,0.6,0.7,0.8,0.9,1]\n",
    "    }\n",
    "]"
   ]
  },
  {
   "cell_type": "code",
   "execution_count": 27,
   "id": "45110662",
   "metadata": {},
   "outputs": [],
   "source": [
    "grid_search_clf_bestf1 = GridSearchCV(clf1,param_grid=param_grid1,cv=5,n_jobs=-1,scoring='f1_macro')"
   ]
  },
  {
   "cell_type": "code",
   "execution_count": 28,
   "id": "a0cd0b53",
   "metadata": {},
   "outputs": [
    {
     "data": {
      "text/plain": [
       "{'alpha': 0.2}"
      ]
     },
     "execution_count": 28,
     "metadata": {},
     "output_type": "execute_result"
    }
   ],
   "source": [
    "grid_search_clf_bestf1.fit(X_train1, y_train1)\n",
    "grid_search_clf_bestf1.best_params_"
   ]
  },
  {
   "cell_type": "code",
   "execution_count": 34,
   "id": "c04b2644",
   "metadata": {},
   "outputs": [
    {
     "name": "stdout",
     "output_type": "stream",
     "text": [
      "              precision    recall  f1-score   support\n",
      "\n",
      "    negative       0.76      0.81      0.78      2752\n",
      "     neutral       0.73      0.66      0.69      2780\n",
      "    positive       0.80      0.82      0.81      2729\n",
      "\n",
      "    accuracy                           0.76      8261\n",
      "   macro avg       0.76      0.76      0.76      8261\n",
      "weighted avg       0.76      0.76      0.76      8261\n",
      "\n"
     ]
    }
   ],
   "source": [
    "clf_bestf1 = MultinomialNB(alpha=0.2).fit(X_train1, y_train1)\n",
    "y_predicted_bayes= clf_bestf1.predict(X_test1)\n",
    "print(classification_report(y_test1, y_predicted_bayes))"
   ]
  },
  {
   "cell_type": "code",
   "execution_count": 29,
   "id": "f1f2ba74",
   "metadata": {},
   "outputs": [
    {
     "data": {
      "text/plain": [
       "array([[2229,  360,  163],\n",
       "       [ 531, 1817,  432],\n",
       "       [ 198,  298, 2233]], dtype=int64)"
      ]
     },
     "execution_count": 29,
     "metadata": {},
     "output_type": "execute_result"
    }
   ],
   "source": [
    "from sklearn.metrics import confusion_matrix\n",
    "import matplotlib.pyplot as plt\n",
    "cfm = confusion_matrix(y_test1, y_predicted_bayes)\n",
    "cfm "
   ]
  },
  {
   "cell_type": "markdown",
   "id": "8f3b9de4",
   "metadata": {},
   "source": [
    "## Here we visualize mistakes our model made, and find our model did most mistakes between netural and negative recognition."
   ]
  },
  {
   "cell_type": "code",
   "execution_count": 30,
   "id": "d28038fa",
   "metadata": {},
   "outputs": [
    {
     "data": {
      "image/png": "[encoded data removed]",
      "text/plain": [
       "<Figure size 480x480 with 1 Axes>"
      ]
     },
     "metadata": {},
     "output_type": "display_data"
    }
   ],
   "source": [
    "row_sums = np.sum(cfm, axis=1)\n",
    "err_matrix = cfm/row_sums\n",
    "np.fill_diagonal(err_matrix,0)\n",
    "plt.matshow(err_matrix,cmap=plt.cm.gray)\n",
    "plt.show()\n",
    "#the ligher part show our model makes more mistakes in this area"
   ]
  },
  {
   "cell_type": "markdown",
   "id": "cd3a73e6",
   "metadata": {},
   "source": [
    "## Try another model SVM."
   ]
  },
  {
   "cell_type": "code",
   "execution_count": 31,
   "id": "bc65a5be",
   "metadata": {},
   "outputs": [],
   "source": [
    "from sklearn.svm import LinearSVC\n",
    "svm_model = LinearSVC()\n",
    "param_grid = [\n",
    "\n",
    "    {\n",
    "        'C':[0.1,0.2,0.3,0.4,0.5,0.6,0.7,0.8,0.9,1],\n",
    "        'multi_class':['ovr']\n",
    "    },\n",
    "    {\n",
    "        'C':[0.1,0.2,0.3,0.4,0.5,0.6,0.7,0.8,0.9,1],\n",
    "        'multi_class':[\"crammer_singer\"]\n",
    "    }\n",
    "\n",
    "]\n",
    "X_train2, X_test2, y_train2, y_test2 = train_test_split(\\\n",
    "                X_sm1, y_sm1, test_size=0.3,\\\n",
    "                    random_state=0)\n",
    "grid_search = GridSearchCV(svm_model,param_grid=param_grid,cv=5,n_jobs=-1,scoring='accuracy')"
   ]
  },
  {
   "cell_type": "code",
   "execution_count": 32,
   "id": "b6f00066",
   "metadata": {},
   "outputs": [
    {
     "data": {
      "text/html": [
       "<style>#sk-container-id-1 {color: black;background-color: white;}#sk-container-id-1 pre{padding: 0;}#sk-container-id-1 div.sk-toggleable {background-color: white;}#sk-container-id-1 label.sk-toggleable__label {cursor: pointer;display: block;width: 100%;margin-bottom: 0;padding: 0.3em;box-sizing: border-box;text-align: center;}#sk-container-id-1 label.sk-toggleable__label-arrow:before {content: \"▸\";float: left;margin-right: 0.25em;color: #696969;}#sk-container-id-1 label.sk-toggleable__label-arrow:hover:before {color: black;}#sk-container-id-1 div.sk-estimator:hover label.sk-toggleable__label-arrow:before {color: black;}#sk-container-id-1 div.sk-toggleable__content {max-height: 0;max-width: 0;overflow: hidden;text-align: left;background-color: #f0f8ff;}#sk-container-id-1 div.sk-toggleable__content pre {margin: 0.2em;color: black;border-radius: 0.25em;background-color: #f0f8ff;}#sk-container-id-1 input.sk-toggleable__control:checked~div.sk-toggleable__content {max-height: 200px;max-width: 100%;overflow: auto;}#sk-container-id-1 input.sk-toggleable__control:checked~label.sk-toggleable__label-arrow:before {content: \"▾\";}#sk-container-id-1 div.sk-estimator input.sk-toggleable__control:checked~label.sk-toggleable__label {background-color: #d4ebff;}#sk-container-id-1 div.sk-label input.sk-toggleable__control:checked~label.sk-toggleable__label {background-color: #d4ebff;}#sk-container-id-1 input.sk-hidden--visually {border: 0;clip: rect(1px 1px 1px 1px);clip: rect(1px, 1px, 1px, 1px);height: 1px;margin: -1px;overflow: hidden;padding: 0;position: absolute;width: 1px;}#sk-container-id-1 div.sk-estimator {font-family: monospace;background-color: #f0f8ff;border: 1px dotted black;border-radius: 0.25em;box-sizing: border-box;margin-bottom: 0.5em;}#sk-container-id-1 div.sk-estimator:hover {background-color: #d4ebff;}#sk-container-id-1 div.sk-parallel-item::after {content: \"\";width: 100%;border-bottom: 1px solid gray;flex-grow: 1;}#sk-container-id-1 div.sk-label:hover label.sk-toggleable__label {background-color: #d4ebff;}#sk-container-id-1 div.sk-serial::before {content: \"\";position: absolute;border-left: 1px solid gray;box-sizing: border-box;top: 0;bottom: 0;left: 50%;z-index: 0;}#sk-container-id-1 div.sk-serial {display: flex;flex-direction: column;align-items: center;background-color: white;padding-right: 0.2em;padding-left: 0.2em;position: relative;}#sk-container-id-1 div.sk-item {position: relative;z-index: 1;}#sk-container-id-1 div.sk-parallel {display: flex;align-items: stretch;justify-content: center;background-color: white;position: relative;}#sk-container-id-1 div.sk-item::before, #sk-container-id-1 div.sk-parallel-item::before {content: \"\";position: absolute;border-left: 1px solid gray;box-sizing: border-box;top: 0;bottom: 0;left: 50%;z-index: -1;}#sk-container-id-1 div.sk-parallel-item {display: flex;flex-direction: column;z-index: 1;position: relative;background-color: white;}#sk-container-id-1 div.sk-parallel-item:first-child::after {align-self: flex-end;width: 50%;}#sk-container-id-1 div.sk-parallel-item:last-child::after {align-self: flex-start;width: 50%;}#sk-container-id-1 div.sk-parallel-item:only-child::after {width: 0;}#sk-container-id-1 div.sk-dashed-wrapped {border: 1px dashed gray;margin: 0 0.4em 0.5em 0.4em;box-sizing: border-box;padding-bottom: 0.4em;background-color: white;}#sk-container-id-1 div.sk-label label {font-family: monospace;font-weight: bold;display: inline-block;line-height: 1.2em;}#sk-container-id-1 div.sk-label-container {text-align: center;}#sk-container-id-1 div.sk-container {/* jupyter's `normalize.less` sets `[hidden] { display: none; }` but bootstrap.min.css set `[hidden] { display: none !important; }` so we also need the `!important` here to be able to override the default hidden behavior on the sphinx rendered scikit-learn.org. See: https://github.com/scikit-learn/scikit-learn/issues/21755 */display: inline-block !important;position: relative;}#sk-container-id-1 div.sk-text-repr-fallback {display: none;}</style><div id=\"sk-container-id-1\" class=\"sk-top-container\"><div class=\"sk-text-repr-fallback\"><pre>GridSearchCV(cv=5, estimator=LinearSVC(), n_jobs=-1,\n",
       "             param_grid=[{&#x27;C&#x27;: [0.1, 0.2, 0.3, 0.4, 0.5, 0.6, 0.7, 0.8, 0.9, 1],\n",
       "                          &#x27;multi_class&#x27;: [&#x27;ovr&#x27;]},\n",
       "                         {&#x27;C&#x27;: [0.1, 0.2, 0.3, 0.4, 0.5, 0.6, 0.7, 0.8, 0.9, 1],\n",
       "                          &#x27;multi_class&#x27;: [&#x27;crammer_singer&#x27;]}],\n",
       "             scoring=&#x27;accuracy&#x27;)</pre><b>In a Jupyter environment, please rerun this cell to show the HTML representation or trust the notebook. <br />On GitHub, the HTML representation is unable to render, please try loading this page with nbviewer.org.</b></div><div class=\"sk-container\" hidden><div class=\"sk-item sk-dashed-wrapped\"><div class=\"sk-label-container\"><div class=\"sk-label sk-toggleable\"><input class=\"sk-toggleable__control sk-hidden--visually\" id=\"sk-estimator-id-1\" type=\"checkbox\" ><label for=\"sk-estimator-id-1\" class=\"sk-toggleable__label sk-toggleable__label-arrow\">GridSearchCV</label><div class=\"sk-toggleable__content\"><pre>GridSearchCV(cv=5, estimator=LinearSVC(), n_jobs=-1,\n",
       "             param_grid=[{&#x27;C&#x27;: [0.1, 0.2, 0.3, 0.4, 0.5, 0.6, 0.7, 0.8, 0.9, 1],\n",
       "                          &#x27;multi_class&#x27;: [&#x27;ovr&#x27;]},\n",
       "                         {&#x27;C&#x27;: [0.1, 0.2, 0.3, 0.4, 0.5, 0.6, 0.7, 0.8, 0.9, 1],\n",
       "                          &#x27;multi_class&#x27;: [&#x27;crammer_singer&#x27;]}],\n",
       "             scoring=&#x27;accuracy&#x27;)</pre></div></div></div><div class=\"sk-parallel\"><div class=\"sk-parallel-item\"><div class=\"sk-item\"><div class=\"sk-label-container\"><div class=\"sk-label sk-toggleable\"><input class=\"sk-toggleable__control sk-hidden--visually\" id=\"sk-estimator-id-2\" type=\"checkbox\" ><label for=\"sk-estimator-id-2\" class=\"sk-toggleable__label sk-toggleable__label-arrow\">estimator: LinearSVC</label><div class=\"sk-toggleable__content\"><pre>LinearSVC()</pre></div></div></div><div class=\"sk-serial\"><div class=\"sk-item\"><div class=\"sk-estimator sk-toggleable\"><input class=\"sk-toggleable__control sk-hidden--visually\" id=\"sk-estimator-id-3\" type=\"checkbox\" ><label for=\"sk-estimator-id-3\" class=\"sk-toggleable__label sk-toggleable__label-arrow\">LinearSVC</label><div class=\"sk-toggleable__content\"><pre>LinearSVC()</pre></div></div></div></div></div></div></div></div></div></div>"
      ],
      "text/plain": [
       "GridSearchCV(cv=5, estimator=LinearSVC(), n_jobs=-1,\n",
       "             param_grid=[{'C': [0.1, 0.2, 0.3, 0.4, 0.5, 0.6, 0.7, 0.8, 0.9, 1],\n",
       "                          'multi_class': ['ovr']},\n",
       "                         {'C': [0.1, 0.2, 0.3, 0.4, 0.5, 0.6, 0.7, 0.8, 0.9, 1],\n",
       "                          'multi_class': ['crammer_singer']}],\n",
       "             scoring='accuracy')"
      ]
     },
     "execution_count": 32,
     "metadata": {},
     "output_type": "execute_result"
    }
   ],
   "source": [
    "grid_search.fit(X_train2,y_train2)"
   ]
  },
  {
   "cell_type": "code",
   "execution_count": 33,
   "id": "1a6918dc",
   "metadata": {},
   "outputs": [
    {
     "data": {
      "text/plain": [
       "{'C': 1, 'multi_class': 'ovr'}"
      ]
     },
     "execution_count": 33,
     "metadata": {},
     "output_type": "execute_result"
    }
   ],
   "source": [
    "grid_search.best_params_"
   ]
  },
  {
   "cell_type": "code",
   "execution_count": 34,
   "id": "a1870118",
   "metadata": {},
   "outputs": [],
   "source": [
    "svm_model_best = LinearSVC(C=1,multi_class='ovr')"
   ]
  },
  {
   "cell_type": "code",
   "execution_count": 35,
   "id": "5e818037",
   "metadata": {},
   "outputs": [
    {
     "data": {
      "text/html": [
       "<style>#sk-container-id-2 {color: black;background-color: white;}#sk-container-id-2 pre{padding: 0;}#sk-container-id-2 div.sk-toggleable {background-color: white;}#sk-container-id-2 label.sk-toggleable__label {cursor: pointer;display: block;width: 100%;margin-bottom: 0;padding: 0.3em;box-sizing: border-box;text-align: center;}#sk-container-id-2 label.sk-toggleable__label-arrow:before {content: \"▸\";float: left;margin-right: 0.25em;color: #696969;}#sk-container-id-2 label.sk-toggleable__label-arrow:hover:before {color: black;}#sk-container-id-2 div.sk-estimator:hover label.sk-toggleable__label-arrow:before {color: black;}#sk-container-id-2 div.sk-toggleable__content {max-height: 0;max-width: 0;overflow: hidden;text-align: left;background-color: #f0f8ff;}#sk-container-id-2 div.sk-toggleable__content pre {margin: 0.2em;color: black;border-radius: 0.25em;background-color: #f0f8ff;}#sk-container-id-2 input.sk-toggleable__control:checked~div.sk-toggleable__content {max-height: 200px;max-width: 100%;overflow: auto;}#sk-container-id-2 input.sk-toggleable__control:checked~label.sk-toggleable__label-arrow:before {content: \"▾\";}#sk-container-id-2 div.sk-estimator input.sk-toggleable__control:checked~label.sk-toggleable__label {background-color: #d4ebff;}#sk-container-id-2 div.sk-label input.sk-toggleable__control:checked~label.sk-toggleable__label {background-color: #d4ebff;}#sk-container-id-2 input.sk-hidden--visually {border: 0;clip: rect(1px 1px 1px 1px);clip: rect(1px, 1px, 1px, 1px);height: 1px;margin: -1px;overflow: hidden;padding: 0;position: absolute;width: 1px;}#sk-container-id-2 div.sk-estimator {font-family: monospace;background-color: #f0f8ff;border: 1px dotted black;border-radius: 0.25em;box-sizing: border-box;margin-bottom: 0.5em;}#sk-container-id-2 div.sk-estimator:hover {background-color: #d4ebff;}#sk-container-id-2 div.sk-parallel-item::after {content: \"\";width: 100%;border-bottom: 1px solid gray;flex-grow: 1;}#sk-container-id-2 div.sk-label:hover label.sk-toggleable__label {background-color: #d4ebff;}#sk-container-id-2 div.sk-serial::before {content: \"\";position: absolute;border-left: 1px solid gray;box-sizing: border-box;top: 0;bottom: 0;left: 50%;z-index: 0;}#sk-container-id-2 div.sk-serial {display: flex;flex-direction: column;align-items: center;background-color: white;padding-right: 0.2em;padding-left: 0.2em;position: relative;}#sk-container-id-2 div.sk-item {position: relative;z-index: 1;}#sk-container-id-2 div.sk-parallel {display: flex;align-items: stretch;justify-content: center;background-color: white;position: relative;}#sk-container-id-2 div.sk-item::before, #sk-container-id-2 div.sk-parallel-item::before {content: \"\";position: absolute;border-left: 1px solid gray;box-sizing: border-box;top: 0;bottom: 0;left: 50%;z-index: -1;}#sk-container-id-2 div.sk-parallel-item {display: flex;flex-direction: column;z-index: 1;position: relative;background-color: white;}#sk-container-id-2 div.sk-parallel-item:first-child::after {align-self: flex-end;width: 50%;}#sk-container-id-2 div.sk-parallel-item:last-child::after {align-self: flex-start;width: 50%;}#sk-container-id-2 div.sk-parallel-item:only-child::after {width: 0;}#sk-container-id-2 div.sk-dashed-wrapped {border: 1px dashed gray;margin: 0 0.4em 0.5em 0.4em;box-sizing: border-box;padding-bottom: 0.4em;background-color: white;}#sk-container-id-2 div.sk-label label {font-family: monospace;font-weight: bold;display: inline-block;line-height: 1.2em;}#sk-container-id-2 div.sk-label-container {text-align: center;}#sk-container-id-2 div.sk-container {/* jupyter's `normalize.less` sets `[hidden] { display: none; }` but bootstrap.min.css set `[hidden] { display: none !important; }` so we also need the `!important` here to be able to override the default hidden behavior on the sphinx rendered scikit-learn.org. See: https://github.com/scikit-learn/scikit-learn/issues/21755 */display: inline-block !important;position: relative;}#sk-container-id-2 div.sk-text-repr-fallback {display: none;}</style><div id=\"sk-container-id-2\" class=\"sk-top-container\"><div class=\"sk-text-repr-fallback\"><pre>LinearSVC(C=1)</pre><b>In a Jupyter environment, please rerun this cell to show the HTML representation or trust the notebook. <br />On GitHub, the HTML representation is unable to render, please try loading this page with nbviewer.org.</b></div><div class=\"sk-container\" hidden><div class=\"sk-item\"><div class=\"sk-estimator sk-toggleable\"><input class=\"sk-toggleable__control sk-hidden--visually\" id=\"sk-estimator-id-4\" type=\"checkbox\" checked><label for=\"sk-estimator-id-4\" class=\"sk-toggleable__label sk-toggleable__label-arrow\">LinearSVC</label><div class=\"sk-toggleable__content\"><pre>LinearSVC(C=1)</pre></div></div></div></div></div>"
      ],
      "text/plain": [
       "LinearSVC(C=1)"
      ]
     },
     "execution_count": 35,
     "metadata": {},
     "output_type": "execute_result"
    }
   ],
   "source": [
    "svm_model_best.fit(X_train2,y_train2)"
   ]
  },
  {
   "cell_type": "code",
   "execution_count": 36,
   "id": "77d30b69",
   "metadata": {},
   "outputs": [],
   "source": [
    "y_predicted2= svm_model_best.predict(X_test2)"
   ]
  },
  {
   "cell_type": "markdown",
   "id": "531f7dbe",
   "metadata": {},
   "source": [
    "## We can tell from the result, SVM preforms better overall compared with Bayes. However, in negative recall part Bayes is better."
   ]
  },
  {
   "cell_type": "code",
   "execution_count": 37,
   "id": "9b425447",
   "metadata": {},
   "outputs": [
    {
     "name": "stdout",
     "output_type": "stream",
     "text": [
      "              precision    recall  f1-score   support\n",
      "\n",
      "           0       0.85      0.83      0.84      2752\n",
      "           1       0.83      0.78      0.80      2750\n",
      "           2       0.73      0.79      0.76      2759\n",
      "\n",
      "    accuracy                           0.80      8261\n",
      "   macro avg       0.80      0.80      0.80      8261\n",
      "weighted avg       0.80      0.80      0.80      8261\n",
      "\n",
      "accuracy of model: 0.8001452608643022\n"
     ]
    }
   ],
   "source": [
    "print(classification_report(y_test2, y_predicted2))\n",
    "print('accuracy of model:',svm_model_best.score(X_test2,y_test2))"
   ]
  },
  {
   "cell_type": "markdown",
   "id": "fff7bfd3",
   "metadata": {},
   "source": [
    "## To avoid model overfitting, we use voting classifier to build a new model based on models we built before."
   ]
  },
  {
   "cell_type": "code",
   "execution_count": 38,
   "id": "8380b229",
   "metadata": {},
   "outputs": [],
   "source": [
    "from sklearn.ensemble import VotingClassifier\n",
    "\n",
    "voting_clf = VotingClassifier(estimators=[\n",
    "    ('bayes_clf',MultinomialNB(alpha=0.5)),\n",
    "    ('svm_clf',LinearSVC(C=0.8,multi_class='ovr'))],\n",
    "                              voting='hard'\n",
    ")"
   ]
  },
  {
   "cell_type": "code",
   "execution_count": 39,
   "id": "a9eca1da",
   "metadata": {},
   "outputs": [
    {
     "name": "stdout",
     "output_type": "stream",
     "text": [
      "              precision    recall  f1-score   support\n",
      "\n",
      "    negative       0.74      0.88      0.80      2752\n",
      "     neutral       0.72      0.70      0.71      2780\n",
      "    positive       0.86      0.72      0.79      2729\n",
      "\n",
      "    accuracy                           0.77      8261\n",
      "   macro avg       0.77      0.77      0.77      8261\n",
      "weighted avg       0.77      0.77      0.77      8261\n",
      "\n"
     ]
    }
   ],
   "source": [
    "voting_clf.fit(X_train1,y_train1)\n",
    "y_predicted_final= voting_clf.predict(X_test1)\n",
    "print(classification_report(y_test1, y_predicted_final))"
   ]
  },
  {
   "cell_type": "markdown",
   "id": "1263c408",
   "metadata": {},
   "source": [
    "## Here we deploy LDA to get some details why customers have negative sentiment"
   ]
  },
  {
   "cell_type": "code",
   "execution_count": 40,
   "id": "725b64f9",
   "metadata": {},
   "outputs": [
    {
     "name": "stderr",
     "output_type": "stream",
     "text": [
      "C:\\Users\\hcy\\AppData\\Roaming\\Python\\Python39\\site-packages\\sklearn\\utils\\deprecation.py:87: FutureWarning: Function get_feature_names is deprecated; get_feature_names is deprecated in 1.0 and will be removed in 1.2. Please use get_feature_names_out instead.\n",
      "  warnings.warn(msg, category=FutureWarning)\n"
     ]
    },
    {
     "name": "stdout",
     "output_type": "stream",
     "text": [
      "(0, '0.041*\"flight\" + 0.021*\"service\" + 0.018*\"customer\" + 0.015*\"hours\" + 0.012*\"thank\" + 0.012*\"cancelled\" + 0.011*\"hour\" + 0.011*\"gate\" + 0.011*\"get\" + 0.011*\"hold\" + 0.010*\"call\" + 0.009*\"waiting\" + 0.009*\"plane\" + 0.008*\"late\" + 0.008*\"delayed\" + 0.008*\"still\" + 0.008*\"amp\" + 0.008*\"got\" + 0.007*\"im\" + 0.007*\"flightled\"')\n",
      "\n",
      "\n",
      "(1, '0.038*\"flight\" + 0.023*\"thanks\" + 0.016*\"flights\" + 0.013*\"cancelled\" + 0.013*\"get\" + 0.008*\"im\" + 0.007*\"like\" + 0.007*\"help\" + 0.007*\"bag\" + 0.007*\"back\" + 0.006*\"one\" + 0.006*\"seat\" + 0.006*\"fly\" + 0.006*\"flightled\" + 0.005*\"going\" + 0.005*\"problems\" + 0.005*\"amp\" + 0.005*\"dont\" + 0.005*\"see\" + 0.005*\"online\"')\n",
      "\n",
      "\n",
      "(2, '0.023*\"flight\" + 0.018*\"time\" + 0.012*\"please\" + 0.012*\"help\" + 0.011*\"get\" + 0.010*\"need\" + 0.010*\"us\" + 0.009*\"airline\" + 0.008*\"cant\" + 0.008*\"one\" + 0.008*\"flying\" + 0.007*\"would\" + 0.006*\"ticket\" + 0.006*\"love\" + 0.006*\"plane\" + 0.006*\"really\" + 0.006*\"im\" + 0.006*\"new\" + 0.006*\"guys\" + 0.006*\"first\"')\n",
      "\n",
      "\n"
     ]
    }
   ],
   "source": [
    "stop=stopwords.words('english')\n",
    "tf_vectorizer_lad = CountVectorizer(min_df=10, stop_words=stop)\n",
    "tf = tf_vectorizer_lad.fit_transform(preprocessed_data['text'])\n",
    "X_train_new, X_test_new = train_test_split(\\\n",
    "                tf, test_size=0.1, random_state=0)\n",
    "corpus = gensim.matutils.Sparse2Corpus(X_train_new, \\\n",
    "                            documents_columns=False)\n",
    "id2word={idx:w for idx, w in \\\n",
    "         enumerate(tf_vectorizer_lad.get_feature_names())}\n",
    "dictionary = corpora.Dictionary.from_corpus(corpus, \\\n",
    "                            id2word=id2word)\n",
    "NUM_TOPICS = 3\n",
    "\n",
    "ldamodel = gensim.models.ldamodel.LdaModel(corpus, num_topics = NUM_TOPICS, \\\n",
    "                            id2word=id2word, \\\n",
    "                            iterations=30)\n",
    "\n",
    "topics = ldamodel.print_topics(num_words=20)\n",
    "for topic in topics:\n",
    "    print(topic)\n",
    "    print(\"\\n\")"
   ]
  },
  {
   "cell_type": "code",
   "execution_count": 41,
   "id": "86bd93fc",
   "metadata": {},
   "outputs": [],
   "source": [
    "pyLDAvis.enable_notebook()"
   ]
  },
  {
   "cell_type": "markdown",
   "id": "a0d0a9e9",
   "metadata": {},
   "source": [
    "## Use visualization to find best number of cluster and top words"
   ]
  },
  {
   "cell_type": "code",
   "execution_count": 42,
   "id": "d130e3f4",
   "metadata": {},
   "outputs": [
    {
     "name": "stderr",
     "output_type": "stream",
     "text": [
      "C:\\Users\\hcy\\anaconda3\\lib\\site-packages\\pyLDAvis\\_prepare.py:246: FutureWarning: In a future version of pandas all arguments of DataFrame.drop except for the argument 'labels' will be keyword-only.\n",
      "  default_term_info = default_term_info.sort_values(\n"
     ]
    },
    {
     "data": {
      "text/html": [
       "\n",
       "<link rel=\"stylesheet\" type=\"text/css\" href=\"https://cdn.jsdelivr.net/gh/bmabey/pyLDAvis@3.3.1/pyLDAvis/js/ldavis.v1.0.0.css\">\n",
       "\n",
       "\n",
       "<div id=\"ldavis_el2142822658113564647900634051\"></div>\n",
       "<script type=\"text/javascript\">\n",
       "\n",
       "var ldavis_el2142822658113564647900634051_data = {\"mdsDat\": {\"x\": [-0.12302709825951641, 0.015169158800625256, 0.10785793945889109], \"y\": [0.05071069616983934, -0.12631885881709318, 0.07560816264725381], \"topics\": [1, 2, 3], \"cluster\": [1, 1, 1], \"Freq\": [36.98139668919777, 32.25163265072338, 30.766970660078858]}, \"tinfo\": {\"Term\": [\"customer\", \"service\", \"flights\", \"time\", \"thanks\", \"hours\", \"hour\", \"waiting\", \"thank\", \"please\", \"gate\", \"late\", \"flying\", \"airline\", \"agent\", \"ticket\", \"hold\", \"online\", \"fleek\", \"call\", \"reps\", \"easy\", \"reach\", \"deals\", \"2hrs\", \"helped\", \"jan\", \"knew\", \"enjoy\", \"flightr\", \"fun\", \"little\", \"callback\", \"neveragain\", \"cover\", \"expected\", \"compensate\", \"sign\", \"sick\", \"fuck\", \"customer\", \"waiting\", \"hour\", \"paying\", \"dfw\", \"minute\", \"service\", \"agent\", \"hours\", \"40\", \"late\", \"gate\", \"thank\", \"flt\", \"great\", \"call\", \"min\", \"hold\", \"rude\", \"got\", \"flight\", \"sitting\", \"plane\", \"phone\", \"delayed\", \"cancelled\", \"still\", \"amp\", \"get\", \"flightled\", \"im\", \"fleek\", \"fleets\", \"top\", \"suck\", \"confirmation\", \"overhead\", \"husband\", \"added\", \"lines\", \"avgeek\", \"acceptable\", \"despite\", \"answers\", \"excited\", \"caused\", \"connections\", \"okay\", \"st\", \"crews\", \"train\", \"online\", \"gonna\", \"things\", \"booking\", \"hey\", \"flights\", \"whats\", \"reflight\", \"looks\", \"several\", \"yall\", \"problems\", \"thanks\", \"seat\", \"connecting\", \"finally\", \"helpful\", \"pass\", \"hope\", \"id\", \"see\", \"flight\", \"sent\", \"email\", \"like\", \"cancelled\", \"made\", \"get\", \"going\", \"bag\", \"back\", \"fly\", \"im\", \"help\", \"one\", \"flightled\", \"dont\", \"amp\", \"responding\", \"rock\", \"price\", \"nonstop\", \"switch\", \"phones\", \"lounge\", \"apparently\", \"flyer\", \"florida\", \"none\", \"fares\", \"page\", \"submitted\", \"country\", \"major\", \"slow\", \"security\", \"imagine\", \"advantage\", \"carry\", \"platinum\", \"means\", \"flown\", \"american\", \"losing\", \"doesnt\", \"airways\", \"ticket\", \"time\", \"flying\", \"many\", \"trip\", \"please\", \"airline\", \"new\", \"love\", \"30\", \"sure\", \"wifi\", \"work\", \"need\", \"first\", \"website\", \"miles\", \"help\", \"really\", \"us\", \"would\", \"best\", \"cant\", \"one\", \"guys\", \"flight\", \"get\", \"plane\", \"im\"], \"Freq\": [691.0, 860.0, 561.0, 697.0, 962.0, 599.0, 431.0, 357.0, 540.0, 509.0, 481.0, 351.0, 285.0, 377.0, 238.0, 225.0, 511.0, 157.0, 135.0, 458.0, 39.05273557492193, 39.468088429283284, 44.52719345964817, 32.12997310975825, 23.76730576999979, 32.130277599095045, 26.23078199917086, 45.62456042990525, 24.235253382495035, 128.77671344517267, 22.418942989604915, 64.47534827614597, 25.275983236181442, 22.83965065644097, 22.972149716329735, 28.383496411207055, 18.72666119315064, 22.069752518239827, 16.814257115457128, 17.33345658311466, 660.0752265946662, 341.6170109873365, 407.51750795483815, 58.501641275101775, 116.22821649298271, 50.83877862821383, 768.2100829167653, 219.466640687919, 524.2511095492569, 63.51081845393782, 301.84124553288905, 398.7201936363977, 440.12822352901645, 144.15536528546326, 238.54512776014286, 355.9112272045148, 141.97607840399377, 384.9275070556737, 123.44286663625277, 271.4726802387068, 1492.1038553887684, 144.5012315732411, 331.7321363552103, 224.37588236649185, 288.2341588524647, 432.851927944567, 281.7500899242727, 280.9965691125383, 395.03174840558705, 249.37965633542984, 251.1794445069274, 132.87757791131315, 123.0428805396933, 35.370511102589596, 45.62532125581095, 64.95901768368779, 32.90023329593473, 35.9306419436075, 25.497371763233918, 23.756758801656222, 24.288771021712012, 26.79070379536767, 24.160328955724125, 30.392923664708096, 21.540586961808472, 23.23483185225553, 32.16904293234373, 21.568771511541897, 19.804211755141964, 18.072642023361773, 18.929223415912993, 149.5987552084419, 38.80012578594074, 44.63338260170372, 124.68463880276155, 68.2961636025724, 499.314801973939, 131.7902659640924, 57.32194235956676, 52.9492166026797, 39.02414442542035, 64.5537608518873, 164.04975584524928, 708.4057611493544, 192.05090638773544, 88.2744785918961, 92.55658158991321, 86.9984638503588, 72.08996881861928, 109.96360856952184, 81.8965439065675, 155.35209536525315, 1196.507339096174, 133.56177204909136, 145.97374229777708, 233.18571281130167, 415.38545428542875, 135.17742251872232, 407.8644758648685, 171.77146539817994, 225.46916035337094, 206.8810267612299, 180.6326145801775, 247.1165061408266, 229.57789998452876, 194.69217412548258, 177.3108593666834, 162.21082660346113, 162.37098956522112, 36.734473827193916, 36.72681825092806, 30.277203145985908, 30.125810718579825, 32.59876451033299, 26.33318722259693, 32.074369765477364, 41.72018621436093, 21.866565534292132, 24.033907743164185, 26.594048101222057, 22.451801320557664, 28.48828085885377, 29.080559006581566, 20.174649985575684, 25.759447030085227, 21.352432965380274, 21.602687499069305, 19.651969097478794, 26.145915614503547, 47.58733111433122, 36.22372354848075, 45.25323291399971, 37.38435223724144, 62.31298056100398, 40.70884650393647, 144.29125322829628, 64.24672811187645, 191.97109067838213, 553.3210969360892, 232.02874149602633, 71.51081127542973, 145.67542055109806, 369.49267424138606, 271.79748602979765, 170.10919675772186, 185.3744787256516, 93.07421808605508, 107.29990703927663, 99.35921908372353, 149.03942961103382, 298.54309951644734, 166.87522417716073, 105.82000832508659, 99.47774599293857, 369.2927836859243, 175.71845950054885, 292.41128691432766, 223.88137744000542, 123.27409327296317, 240.93590489945095, 236.44729832485461, 168.74038950487204, 702.4410166680085, 318.07535021611835, 179.2484803083363, 170.65043307154207], \"Total\": [691.0, 860.0, 561.0, 697.0, 962.0, 599.0, 431.0, 357.0, 540.0, 509.0, 481.0, 351.0, 285.0, 377.0, 238.0, 225.0, 511.0, 157.0, 135.0, 458.0, 39.89617929240556, 40.33608671576429, 45.64414295388534, 32.961210203618144, 24.48448982422604, 33.168661910137665, 27.091547593851693, 47.12939318116211, 25.040251159504283, 133.0858013502341, 23.17882048619128, 66.66587132342767, 26.135175629004276, 23.650965090610235, 23.83953268007039, 29.45582952331963, 19.45571738555358, 22.987339219744737, 17.54074012547606, 18.087262041682205, 691.3685026347506, 357.556486767909, 431.32387313982645, 61.14909133744643, 123.15902135345831, 53.32604570634464, 860.409978163218, 238.38118528620228, 599.4603487973367, 67.74398661732846, 351.54643873391643, 481.34764226173473, 540.6984099792178, 164.54754375178223, 287.5049834005792, 458.3652453809294, 165.23167286857242, 511.8403346577118, 147.87601112938896, 376.15609368333594, 3391.0522111529513, 187.64738472659684, 579.4606043313588, 343.1532598409384, 490.9083548479484, 940.5573216489302, 538.7099786647625, 568.3126850021533, 1120.971574486574, 464.1725106042333, 668.9463837192961, 135.3681562070829, 125.42524423402247, 36.1646353946584, 46.70547887688851, 66.5163082493605, 33.772939165639, 36.937076218970994, 26.293361644895782, 24.516833633448236, 25.06872575241339, 27.660381984733032, 24.94880047213252, 31.392307053995253, 22.262929461639466, 24.016262644823446, 33.2668956019827, 22.32469075539286, 20.593925952887524, 18.807598261177482, 19.715213972825605, 157.79409216603463, 40.4708945604372, 46.63385821834424, 132.0094301609636, 72.22012817634135, 561.9591574311206, 142.39471363049114, 60.56111909978484, 56.01285685105607, 41.1059579392997, 69.92419791323832, 195.00849292234017, 962.0933972539301, 239.25477805460372, 101.07091509886148, 106.78448478342345, 101.41561751314629, 82.55107298046723, 135.23380537509715, 97.20199818669953, 224.52475049200828, 3391.0522111529513, 185.8318266332031, 212.09432290711413, 409.06012677507863, 940.5573216489302, 195.05234449425407, 1120.971574486574, 291.26457645106854, 457.4758589092961, 409.879664007494, 334.6806452870412, 668.9463837192961, 810.4935950454268, 507.0103782545609, 464.1725106042333, 445.2656504289992, 568.3126850021533, 37.50239888378417, 37.58601661734074, 30.9871384838131, 30.887539268514384, 33.480049680694215, 27.065661127633668, 33.03160264850886, 43.04653267929107, 22.568462619201238, 24.807809576338933, 27.480686777929407, 23.22790475862502, 29.47999477288268, 30.093877271690353, 20.884515958363217, 26.665890333611696, 22.10565019407938, 22.365810242890973, 20.35439984874059, 27.09276245662776, 49.451467536639896, 37.746914224237564, 47.37722028356093, 39.18576601866896, 66.86304754404553, 43.070264192186514, 163.59660658869993, 70.30107629997704, 225.80512692257315, 697.316752035919, 285.0778757394436, 79.69228537368872, 174.10574032241448, 509.3143488470452, 377.65836033383164, 223.10727693054045, 248.35277739333378, 113.059940654615, 134.66835114474472, 124.137178493926, 204.825148721318, 488.9686188836565, 253.13187907893698, 144.750768261286, 134.14027003809323, 810.4935950454268, 294.467606091239, 605.7950472620221, 446.75628208546163, 181.80113269207067, 509.1308690558204, 507.0103782545609, 301.3553967460002, 3391.0522111529513, 1120.971574486574, 579.4606043313588, 668.9463837192961], \"Category\": [\"Default\", \"Default\", \"Default\", \"Default\", \"Default\", \"Default\", \"Default\", \"Default\", \"Default\", \"Default\", \"Default\", \"Default\", \"Default\", \"Default\", \"Default\", \"Default\", \"Default\", \"Default\", \"Default\", \"Default\", \"Topic1\", \"Topic1\", \"Topic1\", \"Topic1\", \"Topic1\", \"Topic1\", \"Topic1\", \"Topic1\", \"Topic1\", \"Topic1\", \"Topic1\", \"Topic1\", \"Topic1\", \"Topic1\", \"Topic1\", \"Topic1\", \"Topic1\", \"Topic1\", \"Topic1\", \"Topic1\", \"Topic1\", \"Topic1\", \"Topic1\", \"Topic1\", \"Topic1\", \"Topic1\", \"Topic1\", \"Topic1\", \"Topic1\", \"Topic1\", \"Topic1\", \"Topic1\", \"Topic1\", \"Topic1\", \"Topic1\", \"Topic1\", \"Topic1\", \"Topic1\", \"Topic1\", \"Topic1\", \"Topic1\", \"Topic1\", \"Topic1\", \"Topic1\", \"Topic1\", \"Topic1\", \"Topic1\", \"Topic1\", \"Topic1\", \"Topic1\", \"Topic1\", \"Topic2\", \"Topic2\", \"Topic2\", \"Topic2\", \"Topic2\", \"Topic2\", \"Topic2\", \"Topic2\", \"Topic2\", \"Topic2\", \"Topic2\", \"Topic2\", \"Topic2\", \"Topic2\", \"Topic2\", \"Topic2\", \"Topic2\", \"Topic2\", \"Topic2\", \"Topic2\", \"Topic2\", \"Topic2\", \"Topic2\", \"Topic2\", \"Topic2\", \"Topic2\", \"Topic2\", \"Topic2\", \"Topic2\", \"Topic2\", \"Topic2\", \"Topic2\", \"Topic2\", \"Topic2\", \"Topic2\", \"Topic2\", \"Topic2\", \"Topic2\", \"Topic2\", \"Topic2\", \"Topic2\", \"Topic2\", \"Topic2\", \"Topic2\", \"Topic2\", \"Topic2\", \"Topic2\", \"Topic2\", \"Topic2\", \"Topic2\", \"Topic2\", \"Topic2\", \"Topic2\", \"Topic2\", \"Topic2\", \"Topic2\", \"Topic2\", \"Topic2\", \"Topic3\", \"Topic3\", \"Topic3\", \"Topic3\", \"Topic3\", \"Topic3\", \"Topic3\", \"Topic3\", \"Topic3\", \"Topic3\", \"Topic3\", \"Topic3\", \"Topic3\", \"Topic3\", \"Topic3\", \"Topic3\", \"Topic3\", \"Topic3\", \"Topic3\", \"Topic3\", \"Topic3\", \"Topic3\", \"Topic3\", \"Topic3\", \"Topic3\", \"Topic3\", \"Topic3\", \"Topic3\", \"Topic3\", \"Topic3\", \"Topic3\", \"Topic3\", \"Topic3\", \"Topic3\", \"Topic3\", \"Topic3\", \"Topic3\", \"Topic3\", \"Topic3\", \"Topic3\", \"Topic3\", \"Topic3\", \"Topic3\", \"Topic3\", \"Topic3\", \"Topic3\", \"Topic3\", \"Topic3\", \"Topic3\", \"Topic3\", \"Topic3\", \"Topic3\", \"Topic3\", \"Topic3\", \"Topic3\", \"Topic3\", \"Topic3\"], \"logprob\": [20.0, 19.0, 18.0, 17.0, 16.0, 15.0, 14.0, 13.0, 12.0, 11.0, 10.0, 9.0, 8.0, 7.0, 6.0, 5.0, 4.0, 3.0, 2.0, 1.0, -6.8285, -6.8179, -6.6973, -7.0236, -7.3251, -7.0236, -7.2265, -6.6729, -7.3056, -5.6353, -7.3835, -6.3271, -7.2635, -7.3649, -7.3591, -7.1476, -7.5634, -7.3992, -7.6712, -7.6408, -4.001, -4.6597, -4.4833, -6.4243, -5.7378, -6.5647, -3.8493, -5.1022, -4.2314, -6.3422, -4.7835, -4.5051, -4.4063, -5.5225, -5.0188, -4.6187, -5.5377, -4.5403, -5.6776, -4.8895, -3.1855, -5.5201, -4.6891, -5.0801, -4.8296, -4.423, -4.8524, -4.8551, -4.5144, -4.9744, -4.9672, -5.4671, -5.544, -6.7907, -6.5361, -6.1828, -6.8631, -6.775, -7.118, -7.1887, -7.1665, -7.0685, -7.1718, -6.9423, -7.2866, -7.2109, -6.8855, -7.2853, -7.3707, -7.4622, -7.4158, -5.3486, -6.6981, -6.5581, -5.5308, -6.1327, -4.1433, -5.4753, -6.3079, -6.3872, -6.6924, -6.1891, -5.2564, -3.7935, -5.0988, -5.8761, -5.8287, -5.8907, -6.0786, -5.6564, -5.9511, -5.3109, -3.2694, -5.462, -5.3731, -4.9047, -4.3273, -5.45, -4.3456, -5.2104, -4.9384, -5.0244, -5.1601, -4.8467, -4.9203, -5.0851, -5.1786, -5.2677, -5.2667, -6.7057, -6.7059, -6.899, -6.904, -6.8251, -7.0386, -6.8414, -6.5784, -7.2245, -7.13, -7.0287, -7.1981, -6.9599, -6.9394, -7.305, -7.0606, -7.2483, -7.2366, -7.3312, -7.0457, -6.4469, -6.7197, -6.4971, -6.6882, -6.1773, -6.603, -5.3376, -6.1467, -5.0521, -3.9935, -4.8626, -6.0396, -5.328, -4.3973, -4.7044, -5.173, -5.087, -5.776, -5.6338, -5.7107, -5.3052, -4.6105, -5.1922, -5.6477, -5.7095, -4.3978, -5.1405, -4.6313, -4.8983, -5.495, -4.8249, -4.8437, -5.1811, -3.7549, -4.5471, -5.1206, -5.1698], \"loglift\": [20.0, 19.0, 18.0, 17.0, 16.0, 15.0, 14.0, 13.0, 12.0, 11.0, 10.0, 9.0, 8.0, 7.0, 6.0, 5.0, 4.0, 3.0, 2.0, 1.0, 0.9734, 0.973, 0.97, 0.9692, 0.965, 0.9629, 0.9625, 0.9623, 0.9621, 0.9618, 0.9614, 0.9613, 0.9613, 0.9598, 0.9577, 0.9577, 0.9566, 0.954, 0.9525, 0.9522, 0.9484, 0.9492, 0.938, 0.9505, 0.9368, 0.947, 0.8814, 0.9121, 0.8607, 0.9302, 0.8423, 0.8064, 0.789, 0.8624, 0.8081, 0.7418, 0.8431, 0.7098, 0.8142, 0.6686, 0.1738, 0.7335, 0.437, 0.5699, 0.4623, 0.2187, 0.3466, 0.2904, -0.0482, 0.3735, 0.0152, 1.113, 1.1124, 1.1094, 1.1082, 1.1079, 1.1054, 1.104, 1.1009, 1.1001, 1.1, 1.0997, 1.0995, 1.0992, 1.0986, 1.0985, 1.098, 1.0972, 1.0925, 1.0917, 1.0909, 1.0783, 1.0894, 1.0878, 1.0745, 1.0757, 1.0134, 1.0542, 1.0766, 1.0754, 1.0796, 1.0517, 0.9587, 0.8255, 0.9118, 0.9962, 0.9886, 0.9783, 0.9961, 0.9247, 0.9603, 0.7633, 0.0899, 0.8013, 0.758, 0.5696, 0.3143, 0.7649, 0.1206, 0.6035, 0.4241, 0.4479, 0.5149, 0.1358, -0.1298, 0.1745, 0.1692, 0.1218, -0.1212, 1.158, 1.1556, 1.1556, 1.1538, 1.1521, 1.1513, 1.1493, 1.1474, 1.1471, 1.147, 1.1459, 1.1447, 1.1445, 1.1445, 1.1441, 1.1441, 1.1441, 1.144, 1.1436, 1.1432, 1.1403, 1.1375, 1.1329, 1.1317, 1.1083, 1.1223, 1.0532, 1.0887, 1.0164, 0.9474, 0.9728, 1.0704, 1.0004, 0.8578, 0.8498, 0.9075, 0.8863, 0.9842, 0.9515, 0.9561, 0.8608, 0.6853, 0.7621, 0.8655, 0.8798, 0.3927, 0.6624, 0.4503, 0.4878, 0.7902, 0.4306, 0.4159, 0.5988, -0.3956, -0.0809, 0.0054, -0.1874]}, \"token.table\": {\"Topic\": [1, 1, 2, 3, 1, 2, 3, 2, 2, 2, 3, 1, 2, 3, 1, 2, 3, 1, 2, 3, 1, 2, 3, 1, 2, 3, 1, 2, 1, 2, 3, 2, 1, 2, 3, 1, 2, 3, 1, 2, 3, 1, 2, 3, 1, 2, 3, 1, 1, 2, 3, 1, 2, 3, 2, 3, 2, 1, 2, 3, 1, 2, 3, 1, 2, 3, 1, 2, 1, 2, 3, 1, 1, 2, 3, 2, 1, 2, 3, 1, 2, 3, 1, 2, 3, 1, 1, 2, 3, 1, 2, 1, 3, 3, 1, 2, 3, 1, 2, 3, 1, 2, 1, 2, 1, 2, 3, 1, 2, 3, 1, 2, 3, 1, 2, 3, 3, 2, 3, 1, 2, 3, 1, 2, 3, 3, 1, 2, 3, 1, 1, 1, 2, 3, 1, 2, 3, 1, 2, 3, 1, 2, 3, 1, 2, 3, 1, 2, 3, 1, 2, 3, 1, 2, 3, 1, 3, 1, 2, 3, 2, 3, 1, 2, 3, 1, 2, 3, 1, 2, 3, 1, 2, 3, 1, 2, 1, 2, 3, 1, 2, 3, 3, 1, 3, 1, 3, 1, 2, 3, 1, 2, 3, 2, 1, 2, 3, 1, 2, 3, 1, 3, 1, 3, 1, 2, 3, 1, 2, 3, 3, 1, 2, 3, 1, 3, 1, 2, 3, 1, 2, 3, 1, 2, 3, 1, 2, 3, 1, 1, 2, 3, 1, 3, 3, 2, 1, 2, 3, 1, 2, 3, 2, 1, 3, 1, 2, 3, 1, 2, 3, 1, 2, 3, 3, 1, 2, 3, 1, 3, 1, 2, 3, 3, 1, 2, 3, 1, 3, 1, 2, 3, 1, 2, 3, 1, 3, 3, 1, 2, 3, 1, 2, 3, 3, 1, 2, 3, 1, 2, 3, 1, 2, 3, 1, 2, 3, 1, 1, 1, 2, 3, 3, 2, 1, 2, 3, 2, 3, 1, 2, 1, 2, 3, 3, 1, 2, 3, 1, 2, 3, 2, 3, 1, 2, 3, 1, 2, 3, 2, 2, 1, 2, 3, 1, 2, 3, 1, 2, 3, 1, 2, 3, 1, 2, 3, 1, 2, 3, 1, 2, 3, 1, 2, 3, 1, 2, 3], \"Freq\": [0.9802123782155893, 0.1061383893403819, 0.07075892622692127, 0.8225725173879598, 0.9447332995254996, 0.02952291561017186, 0.02952291561017186, 0.9761253483376504, 0.9508103352335376, 0.036910226544852306, 0.95966589016616, 0.9186966653306422, 0.04194961942149052, 0.03355969553719241, 0.19064850023803392, 0.09002845844573824, 0.720227667565906, 0.014224533287839956, 0.07112266643919977, 0.9103701304217572, 0.02991188815739389, 0.04486783223609083, 0.9272685328792105, 0.4944461163996987, 0.28505434468594726, 0.21994934003545316, 0.03185493816303416, 0.9556481448910249, 0.023230674754928227, 0.023230674754928227, 0.9756883397069855, 0.9573681660979317, 0.3391239239365108, 0.5050262752148038, 0.15614338943839345, 0.17050080016455052, 0.4918292312438957, 0.3366297849402664, 0.28052630500593345, 0.038503610491010476, 0.6765634414848984, 0.022725649192955364, 0.9469020497064735, 0.030300865590607153, 0.7766731958574702, 0.08290331865894345, 0.14180830823240329, 0.9565652190320664, 0.4603653493876266, 0.4412277598056929, 0.09781434675210542, 0.2514088376479216, 0.27497841617741425, 0.47335570213397743, 0.04044369357730682, 0.9706486458553638, 0.9576843966168693, 0.9765766855817939, 0.9772039626180684, 0.015033907117201052, 0.04947021598754994, 0.870675801380879, 0.07915234558007991, 0.03005991337347391, 0.9619172279511651, 0.9576472847095596, 0.9647840127012124, 0.9570600004337332, 0.9546283891799993, 0.02603531970490907, 0.01880328645354544, 0.9708381398110003, 0.5866675463064868, 0.28314857269653354, 0.128333525754544, 0.9619700965907232, 0.9418717258810266, 0.03247833537520781, 0.02435875153140586, 0.0427881735811231, 0.07335115471049675, 0.880213856525961, 0.2807312890171665, 0.3638277505662478, 0.3548443493176984, 0.9668761443027611, 0.20273998573187496, 0.6883729748105522, 0.10844231794960754, 0.9584568400341525, 0.9881898084395178, 0.9505758436656121, 0.03394913727377186, 0.9471366543222512, 0.13110518844000896, 0.8709130374943451, 0.009364656317143496, 0.2804862044968238, 0.05925764883735715, 0.6597351570559096, 0.014774523462818307, 0.9825058102774175, 0.0159457532828745, 0.9806638268967819, 0.43998142968513093, 0.3529877823948403, 0.2070153911789289, 0.5364384885176978, 0.3813237448499298, 0.07971174327371414, 0.9692994946960439, 0.015027899142574325, 0.022541848713861487, 0.06940006134659392, 0.8879648874859067, 0.040928241306965644, 0.9674372872843477, 0.025519470501701513, 0.944220408562956, 0.8751270102045526, 0.09723633446717252, 0.03038635452099141, 0.09561353621914699, 0.5408140642395501, 0.36452660683549787, 0.9748116374255112, 0.021046880556539225, 0.16486723102622391, 0.81381271485285, 0.9398879698222647, 0.9491423436799314, 0.8289227264627218, 0.10595252894636294, 0.06440251759484805, 0.3523728959683188, 0.36396997862044067, 0.2836824833365199, 0.31243071542992007, 0.5905283852082006, 0.09956583238975476, 0.024709115300296864, 0.9636554967115777, 0.024709115300296864, 0.7204455930684436, 0.23660390325864017, 0.042535533170092614, 0.8312899386060468, 0.10086781681830694, 0.06956401159883237, 0.09291355091808766, 0.3451074748386113, 0.5607996466127434, 0.26156900103339836, 0.28377768980038504, 0.4552781197232264, 0.9647660821137776, 0.03014894006605555, 0.09860414249022072, 0.8578560396649202, 0.03944165699608829, 0.9415657617494534, 0.041539665959534705, 0.7521876920025558, 0.0625194964781345, 0.18560475516946182, 0.029578403039870284, 0.8134060835964328, 0.155286615959319, 0.9459249195504991, 0.01622910401189582, 0.039413538314604125, 0.8741195327618774, 0.10843085807160693, 0.01668167047255491, 0.02707306864440984, 0.9746304711987542, 0.02057570870259812, 0.8436040568065228, 0.13374210656688776, 0.375216917392478, 0.36923736492407194, 0.2556258680243575, 0.982588538528562, 0.9597089243399511, 0.03691188170538274, 0.976036330940634, 0.021218181107405087, 0.8590614687710779, 0.12800584799569042, 0.014222871999521157, 0.10511902086131097, 0.5695984153647781, 0.32513557615242694, 0.9789192339771348, 0.9600114530792786, 0.030000357908727456, 0.015000178954363728, 0.035706088073997104, 0.9462113339609232, 0.017853044036998552, 0.0464357495249083, 0.9519328652606203, 0.030274038188248274, 0.9687692220239448, 0.12079591102171122, 0.13287550212388233, 0.7449081179672191, 0.2717219325787765, 0.6921219037383931, 0.035887802416064825, 0.9750283855036951, 0.037644798187585704, 0.06274133031264284, 0.903475156502057, 0.04221438041382865, 0.9498235593111446, 0.1043683600459748, 0.14909765720853543, 0.7380334031822503, 0.8593993968271978, 0.018156325285081643, 0.12104216856721096, 0.9563806827314052, 0.01875256240649814, 0.01875256240649814, 0.17383528659581446, 0.2147377069713002, 0.611491184613512, 0.9724761721935534, 0.12550016469752884, 0.11205371847993645, 0.7619652856635679, 0.03638919245654119, 0.9825081963266121, 0.9712654588376644, 0.9854559797064858, 0.14989831226263725, 0.3846075117265035, 0.4654737064997683, 0.025349491511957915, 0.9506059316984219, 0.025349491511957915, 0.9771136541641184, 0.033921308592627535, 0.9497966405935709, 0.04845485171278704, 0.8721873308301666, 0.07268227756918055, 0.9648548933362421, 0.016353472768410884, 0.03270694553682177, 0.652769552892578, 0.2914149789699009, 0.05536884600428117, 0.9606268207302114, 0.5729466291899097, 0.11735051441239114, 0.3089079717620296, 0.026492231763885293, 0.9537203434998706, 0.11780543810678876, 0.15707391747571833, 0.7245034443567508, 0.9681436062794647, 0.03076789072150529, 0.8409890130544779, 0.1281995446729387, 0.9858877193830515, 0.02190861598629003, 0.09848281916284715, 0.3056363353329739, 0.5976888335400379, 0.0330244888094729, 0.9411979310699776, 0.01651224440473645, 0.9775372151343786, 0.9866035534062488, 0.9844086532683973, 0.8317779135412107, 0.1217235971035918, 0.04057453236786394, 0.1797247283821699, 0.8024918104506191, 0.016718579384387897, 0.9836442212949899, 0.20042333819051156, 0.6903470537673175, 0.1068924470349395, 0.25829805835543407, 0.7210820795755868, 0.026906047745357715, 0.8925977376965193, 0.04997617541790408, 0.056949595243658134, 0.024327373697912085, 0.9487675742185714, 0.024327373697912085, 0.9691723312922986, 0.9570485644159864, 0.7727259306665303, 0.010658288698848693, 0.21849491832639822, 0.949983366950432, 0.9711601394388695, 0.5234727611672619, 0.23203579838974378, 0.24502980309956943, 0.033229350640726886, 0.9636511685810796, 0.021410764305316535, 0.9848951580445606, 0.03712824845256984, 0.1633642931913073, 0.7945445168849946, 0.9856616198221764, 0.8137623338247134, 0.15905354706573946, 0.0258924378944227, 0.10809761328457673, 0.7358952904373108, 0.15591001916044722, 0.9649641209034355, 0.04288729426237491, 0.06200036372425013, 0.08857194817750018, 0.8502907025040017, 0.11042327575694569, 0.096082590593706, 0.7930398895271554, 0.9677962909912147, 0.9637227384997485, 0.06317999613125824, 0.09764181220285366, 0.8385708577421549, 0.3994750387837501, 0.11720135435391016, 0.48201120382171503, 0.9564922261415809, 0.025170848056357394, 0.01957732626605575, 0.1312600978096612, 0.13816852401016966, 0.7322931772538992, 0.04213639570616204, 0.9270007055355649, 0.028090930470774694, 0.1047228570660327, 0.09666725267633787, 0.7975048345797874, 0.14158417645997642, 0.13181975049721942, 0.727449734225396, 0.3268001052351652, 0.17235348015827204, 0.5013919422786096, 0.05720480347823489, 0.929578056521317, 0.014301200869558722], \"Term\": [\"2hrs\", \"30\", \"30\", \"30\", \"40\", \"40\", \"40\", \"acceptable\", \"added\", \"advantage\", \"advantage\", \"agent\", \"agent\", \"agent\", \"airline\", \"airline\", \"airline\", \"airways\", \"airways\", \"airways\", \"american\", \"american\", \"american\", \"amp\", \"amp\", \"amp\", \"answers\", \"answers\", \"apparently\", \"apparently\", \"apparently\", \"avgeek\", \"back\", \"back\", \"back\", \"bag\", \"bag\", \"bag\", \"best\", \"best\", \"best\", \"booking\", \"booking\", \"booking\", \"call\", \"call\", \"call\", \"callback\", \"cancelled\", \"cancelled\", \"cancelled\", \"cant\", \"cant\", \"cant\", \"carry\", \"carry\", \"caused\", \"compensate\", \"confirmation\", \"confirmation\", \"connecting\", \"connecting\", \"connecting\", \"connections\", \"connections\", \"country\", \"cover\", \"crews\", \"customer\", \"customer\", \"customer\", \"deals\", \"delayed\", \"delayed\", \"delayed\", \"despite\", \"dfw\", \"dfw\", \"dfw\", \"doesnt\", \"doesnt\", \"doesnt\", \"dont\", \"dont\", \"dont\", \"easy\", \"email\", \"email\", \"email\", \"enjoy\", \"excited\", \"expected\", \"expected\", \"fares\", \"finally\", \"finally\", \"finally\", \"first\", \"first\", \"first\", \"fleek\", \"fleek\", \"fleets\", \"fleets\", \"flight\", \"flight\", \"flight\", \"flightled\", \"flightled\", \"flightled\", \"flightr\", \"flightr\", \"flightr\", \"flights\", \"flights\", \"flights\", \"florida\", \"flown\", \"flown\", \"flt\", \"flt\", \"flt\", \"fly\", \"fly\", \"fly\", \"flyer\", \"flying\", \"flying\", \"flying\", \"fuck\", \"fun\", \"gate\", \"gate\", \"gate\", \"get\", \"get\", \"get\", \"going\", \"going\", \"going\", \"gonna\", \"gonna\", \"gonna\", \"got\", \"got\", \"got\", \"great\", \"great\", \"great\", \"guys\", \"guys\", \"guys\", \"help\", \"help\", \"help\", \"helped\", \"helped\", \"helpful\", \"helpful\", \"helpful\", \"hey\", \"hey\", \"hold\", \"hold\", \"hold\", \"hope\", \"hope\", \"hope\", \"hour\", \"hour\", \"hour\", \"hours\", \"hours\", \"hours\", \"husband\", \"husband\", \"id\", \"id\", \"id\", \"im\", \"im\", \"im\", \"imagine\", \"jan\", \"jan\", \"knew\", \"knew\", \"late\", \"late\", \"late\", \"like\", \"like\", \"like\", \"lines\", \"little\", \"little\", \"little\", \"looks\", \"looks\", \"looks\", \"losing\", \"losing\", \"lounge\", \"lounge\", \"love\", \"love\", \"love\", \"made\", \"made\", \"made\", \"major\", \"many\", \"many\", \"many\", \"means\", \"means\", \"miles\", \"miles\", \"miles\", \"min\", \"min\", \"min\", \"minute\", \"minute\", \"minute\", \"need\", \"need\", \"need\", \"neveragain\", \"new\", \"new\", \"new\", \"none\", \"none\", \"nonstop\", \"okay\", \"one\", \"one\", \"one\", \"online\", \"online\", \"online\", \"overhead\", \"page\", \"page\", \"pass\", \"pass\", \"pass\", \"paying\", \"paying\", \"paying\", \"phone\", \"phone\", \"phone\", \"phones\", \"plane\", \"plane\", \"plane\", \"platinum\", \"platinum\", \"please\", \"please\", \"please\", \"price\", \"problems\", \"problems\", \"problems\", \"reach\", \"reach\", \"really\", \"really\", \"really\", \"reflight\", \"reflight\", \"reflight\", \"reps\", \"responding\", \"rock\", \"rude\", \"rude\", \"rude\", \"seat\", \"seat\", \"seat\", \"security\", \"see\", \"see\", \"see\", \"sent\", \"sent\", \"sent\", \"service\", \"service\", \"service\", \"several\", \"several\", \"several\", \"sick\", \"sign\", \"sitting\", \"sitting\", \"sitting\", \"slow\", \"st\", \"still\", \"still\", \"still\", \"submitted\", \"submitted\", \"suck\", \"suck\", \"sure\", \"sure\", \"sure\", \"switch\", \"thank\", \"thank\", \"thank\", \"thanks\", \"thanks\", \"thanks\", \"things\", \"things\", \"ticket\", \"ticket\", \"ticket\", \"time\", \"time\", \"time\", \"top\", \"train\", \"trip\", \"trip\", \"trip\", \"us\", \"us\", \"us\", \"waiting\", \"waiting\", \"waiting\", \"website\", \"website\", \"website\", \"whats\", \"whats\", \"whats\", \"wifi\", \"wifi\", \"wifi\", \"work\", \"work\", \"work\", \"would\", \"would\", \"would\", \"yall\", \"yall\", \"yall\"]}, \"R\": 20, \"lambda.step\": 0.01, \"plot.opts\": {\"xlab\": \"PC1\", \"ylab\": \"PC2\"}, \"topic.order\": [1, 2, 3]};\n",
       "\n",
       "function LDAvis_load_lib(url, callback){\n",
       "  var s = document.createElement('script');\n",
       "  s.src = url;\n",
       "  s.async = true;\n",
       "  s.onreadystatechange = s.onload = callback;\n",
       "  s.onerror = function(){console.warn(\"failed to load library \" + url);};\n",
       "  document.getElementsByTagName(\"head\")[0].appendChild(s);\n",
       "}\n",
       "\n",
       "if(typeof(LDAvis) !== \"undefined\"){\n",
       "   // already loaded: just create the visualization\n",
       "   !function(LDAvis){\n",
       "       new LDAvis(\"#\" + \"ldavis_el2142822658113564647900634051\", ldavis_el2142822658113564647900634051_data);\n",
       "   }(LDAvis);\n",
       "}else if(typeof define === \"function\" && define.amd){\n",
       "   // require.js is available: use it to load d3/LDAvis\n",
       "   require.config({paths: {d3: \"https://d3js.org/d3.v5\"}});\n",
       "   require([\"d3\"], function(d3){\n",
       "      window.d3 = d3;\n",
       "      LDAvis_load_lib(\"https://cdn.jsdelivr.net/gh/bmabey/pyLDAvis@3.3.1/pyLDAvis/js/ldavis.v3.0.0.js\", function(){\n",
       "        new LDAvis(\"#\" + \"ldavis_el2142822658113564647900634051\", ldavis_el2142822658113564647900634051_data);\n",
       "      });\n",
       "    });\n",
       "}else{\n",
       "    // require.js not available: dynamically load d3 & LDAvis\n",
       "    LDAvis_load_lib(\"https://d3js.org/d3.v5.js\", function(){\n",
       "         LDAvis_load_lib(\"https://cdn.jsdelivr.net/gh/bmabey/pyLDAvis@3.3.1/pyLDAvis/js/ldavis.v3.0.0.js\", function(){\n",
       "                 new LDAvis(\"#\" + \"ldavis_el2142822658113564647900634051\", ldavis_el2142822658113564647900634051_data);\n",
       "            })\n",
       "         });\n",
       "}\n",
       "</script>"
      ],
      "text/plain": [
       "<IPython.core.display.HTML object>"
      ]
     },
     "execution_count": 42,
     "metadata": {},
     "output_type": "execute_result"
    }
   ],
   "source": [
    "lda_display = gensimvis.prepare(ldamodel, corpus, dictionary, sort_topics=True, R=20)\n",
    "pyLDAvis.display(lda_display)"
   ]
  },
  {
   "cell_type": "markdown",
   "id": "010cb6d7",
   "metadata": {},
   "source": [
    "## Next step, we scrape data from one airline review website"
   ]
  },
  {
   "cell_type": "code",
   "execution_count": 43,
   "id": "a7844dde",
   "metadata": {},
   "outputs": [],
   "source": [
    "# from selenium import webdriver\n",
    "from selenium.webdriver.common.by import By\n",
    "from seleniumwire import webdriver"
   ]
  },
  {
   "cell_type": "markdown",
   "id": "5bab1ad4",
   "metadata": {},
   "source": [
    "## We foucs on two airlines 'Air Canada' and 'British Airways', and get 2000 data for each airline."
   ]
  },
  {
   "cell_type": "code",
   "execution_count": 44,
   "id": "dfcbf48c",
   "metadata": {},
   "outputs": [],
   "source": [
    "import time\n",
    "def get_review(page_number,airline_list):\n",
    "    comment=[]\n",
    "    \n",
    "    for i in range(page_number):\n",
    "        i+=1\n",
    "        airline=airline_list[1]\n",
    "        page_url='https://www.airlinequality.com/airline-reviews/'+str(airline)+'/page/'+str(i)+'/?sortby=post_date%3ADesc&pagesize=100'\n",
    "        driver.get(page_url)\n",
    "        input1=driver.find_elements(By.XPATH,\"//div[contains(@class,'text_content')]\")\n",
    "        for a in input1:\n",
    "            comment.append(a.text)\n",
    "        time.sleep(1)\n",
    "\n",
    "    for i in range(page_number):\n",
    "        i+=1\n",
    "        airline=airline_list[2]\n",
    "        page_url='https://www.airlinequality.com/airline-reviews/'+str(airline)+'/page/'+str(i)+'/?sortby=post_date%3ADesc&pagesize=100'\n",
    "        driver.get(page_url)\n",
    "        input1=driver.find_elements(By.XPATH,\"//div[contains(@class,'text_content')]\")\n",
    "        for a in input1:\n",
    "            comment.append(a.text)\n",
    "        time.sleep(1)\n",
    "    \n",
    "    return comment\n",
    "        "
   ]
  },
  {
   "cell_type": "code",
   "execution_count": 45,
   "id": "4b5f1ee4",
   "metadata": {},
   "outputs": [
    {
     "name": "stderr",
     "output_type": "stream",
     "text": [
      "C:\\Users\\hcy\\anaconda3\\lib\\site-packages\\seleniumwire\\webdriver.py:218: DeprecationWarning: executable_path has been deprecated, please pass in a Service object\n",
      "  super().__init__(*args, **kwargs)\n"
     ]
    },
    {
     "data": {
      "text/plain": [
       "3900"
      ]
     },
     "execution_count": 45,
     "metadata": {},
     "output_type": "execute_result"
    }
   ],
   "source": [
    "executable_path = 'chromedriver.exe'\n",
    "driver = webdriver.Chrome(executable_path=executable_path)\n",
    "airline_list=['lufthansa','air-canada','british-airways']\n",
    "page_number=20\n",
    "comment=get_review(page_number,airline_list)\n",
    "driver.quit()\n",
    "len(comment)"
   ]
  },
  {
   "cell_type": "code",
   "execution_count": 46,
   "id": "989d7427",
   "metadata": {},
   "outputs": [],
   "source": [
    "comment_dic = {'text':comment}"
   ]
  },
  {
   "cell_type": "code",
   "execution_count": 47,
   "id": "9efa4c1d",
   "metadata": {},
   "outputs": [],
   "source": [
    "comment_dataframe=pd.DataFrame(comment_dic)"
   ]
  },
  {
   "cell_type": "code",
   "execution_count": 48,
   "id": "24006f4b",
   "metadata": {},
   "outputs": [
    {
     "data": {
      "text/html": [
       "<div>\n",
       "<style scoped>\n",
       "    .dataframe tbody tr th:only-of-type {\n",
       "        vertical-align: middle;\n",
       "    }\n",
       "\n",
       "    .dataframe tbody tr th {\n",
       "        vertical-align: top;\n",
       "    }\n",
       "\n",
       "    .dataframe thead th {\n",
       "        text-align: right;\n",
       "    }\n",
       "</style>\n",
       "<table border=\"1\" class=\"dataframe\">\n",
       "  <thead>\n",
       "    <tr style=\"text-align: right;\">\n",
       "      <th></th>\n",
       "      <th>text</th>\n",
       "    </tr>\n",
       "  </thead>\n",
       "  <tbody>\n",
       "    <tr>\n",
       "      <th>0</th>\n",
       "      <td>✅ Trip Verified | We had been dreading this fl...</td>\n",
       "    </tr>\n",
       "    <tr>\n",
       "      <th>1</th>\n",
       "      <td>Not Verified | I've been a long time user of A...</td>\n",
       "    </tr>\n",
       "    <tr>\n",
       "      <th>2</th>\n",
       "      <td>✅ Trip Verified | Plane was tired but clean, s...</td>\n",
       "    </tr>\n",
       "    <tr>\n",
       "      <th>3</th>\n",
       "      <td>✅ Trip Verified | Air Canada disappointed in s...</td>\n",
       "    </tr>\n",
       "    <tr>\n",
       "      <th>4</th>\n",
       "      <td>✅ Trip Verified | After waiting at the gate fo...</td>\n",
       "    </tr>\n",
       "    <tr>\n",
       "      <th>...</th>\n",
       "      <td>...</td>\n",
       "    </tr>\n",
       "    <tr>\n",
       "      <th>3895</th>\n",
       "      <td>✅ Verified Review | We were treated incredibly...</td>\n",
       "    </tr>\n",
       "    <tr>\n",
       "      <th>3896</th>\n",
       "      <td>✅ Verified Review | I was scheduled to be on B...</td>\n",
       "    </tr>\n",
       "    <tr>\n",
       "      <th>3897</th>\n",
       "      <td>✅ Verified Review | British Airways from Londo...</td>\n",
       "    </tr>\n",
       "    <tr>\n",
       "      <th>3898</th>\n",
       "      <td>We flew British Airways BA2678 from Gatwick to...</td>\n",
       "    </tr>\n",
       "    <tr>\n",
       "      <th>3899</th>\n",
       "      <td>✅ Verified Review | Flew British Airways Londo...</td>\n",
       "    </tr>\n",
       "  </tbody>\n",
       "</table>\n",
       "<p>3900 rows × 1 columns</p>\n",
       "</div>"
      ],
      "text/plain": [
       "                                                   text\n",
       "0     ✅ Trip Verified | We had been dreading this fl...\n",
       "1     Not Verified | I've been a long time user of A...\n",
       "2     ✅ Trip Verified | Plane was tired but clean, s...\n",
       "3     ✅ Trip Verified | Air Canada disappointed in s...\n",
       "4     ✅ Trip Verified | After waiting at the gate fo...\n",
       "...                                                 ...\n",
       "3895  ✅ Verified Review | We were treated incredibly...\n",
       "3896  ✅ Verified Review | I was scheduled to be on B...\n",
       "3897  ✅ Verified Review | British Airways from Londo...\n",
       "3898  We flew British Airways BA2678 from Gatwick to...\n",
       "3899  ✅ Verified Review | Flew British Airways Londo...\n",
       "\n",
       "[3900 rows x 1 columns]"
      ]
     },
     "execution_count": 48,
     "metadata": {},
     "output_type": "execute_result"
    }
   ],
   "source": [
    "comment_dataframe"
   ]
  },
  {
   "cell_type": "code",
   "execution_count": 49,
   "id": "6b1ae437",
   "metadata": {},
   "outputs": [],
   "source": [
    "preprocessed_comment = comment_dataframe.apply(remove_mentions).apply(remove_http).apply(remove_punctuation).apply(lower_case).apply(remove_first_twowords)\n",
    "clean_comment = []\n",
    "for text in preprocessed_comment.text:\n",
    "    clean = remove_stopwords(text)\n",
    "    clean_comment.append(clean)\n",
    "X_comment = clean_comment"
   ]
  },
  {
   "cell_type": "code",
   "execution_count": 50,
   "id": "e83c1e22",
   "metadata": {},
   "outputs": [],
   "source": [
    "final_data=pd.DataFrame({'text':X_comment})"
   ]
  },
  {
   "cell_type": "code",
   "execution_count": 51,
   "id": "0f8fa4e5",
   "metadata": {},
   "outputs": [
    {
     "data": {
      "text/html": [
       "<div>\n",
       "<style scoped>\n",
       "    .dataframe tbody tr th:only-of-type {\n",
       "        vertical-align: middle;\n",
       "    }\n",
       "\n",
       "    .dataframe tbody tr th {\n",
       "        vertical-align: top;\n",
       "    }\n",
       "\n",
       "    .dataframe thead th {\n",
       "        text-align: right;\n",
       "    }\n",
       "</style>\n",
       "<table border=\"1\" class=\"dataframe\">\n",
       "  <thead>\n",
       "    <tr style=\"text-align: right;\">\n",
       "      <th></th>\n",
       "      <th>text</th>\n",
       "    </tr>\n",
       "  </thead>\n",
       "  <tbody>\n",
       "    <tr>\n",
       "      <th>0</th>\n",
       "      <td>verified dreading flight negative reviews took...</td>\n",
       "    </tr>\n",
       "    <tr>\n",
       "      <th>1</th>\n",
       "      <td>ive long time user air canada flight passes wo...</td>\n",
       "    </tr>\n",
       "    <tr>\n",
       "      <th>2</th>\n",
       "      <td>verified plane tired clean staff dreadful saw ...</td>\n",
       "    </tr>\n",
       "    <tr>\n",
       "      <th>3</th>\n",
       "      <td>verified air canada disappointed many ways sch...</td>\n",
       "    </tr>\n",
       "    <tr>\n",
       "      <th>4</th>\n",
       "      <td>verified waiting gate one hour plane arrived l...</td>\n",
       "    </tr>\n",
       "    <tr>\n",
       "      <th>...</th>\n",
       "      <td>...</td>\n",
       "    </tr>\n",
       "    <tr>\n",
       "      <th>3895</th>\n",
       "      <td>review treated incredibly well staff made trip...</td>\n",
       "    </tr>\n",
       "    <tr>\n",
       "      <th>3896</th>\n",
       "      <td>review scheduled ba 114 jfk lhr 17th may condu...</td>\n",
       "    </tr>\n",
       "    <tr>\n",
       "      <th>3897</th>\n",
       "      <td>review british airways london heathrow new yor...</td>\n",
       "    </tr>\n",
       "    <tr>\n",
       "      <th>3898</th>\n",
       "      <td>british airways ba2678 gatwick dubrovnik 26th ...</td>\n",
       "    </tr>\n",
       "    <tr>\n",
       "      <th>3899</th>\n",
       "      <td>review flew british airways london heathrow wa...</td>\n",
       "    </tr>\n",
       "  </tbody>\n",
       "</table>\n",
       "<p>3900 rows × 1 columns</p>\n",
       "</div>"
      ],
      "text/plain": [
       "                                                   text\n",
       "0     verified dreading flight negative reviews took...\n",
       "1     ive long time user air canada flight passes wo...\n",
       "2     verified plane tired clean staff dreadful saw ...\n",
       "3     verified air canada disappointed many ways sch...\n",
       "4     verified waiting gate one hour plane arrived l...\n",
       "...                                                 ...\n",
       "3895  review treated incredibly well staff made trip...\n",
       "3896  review scheduled ba 114 jfk lhr 17th may condu...\n",
       "3897  review british airways london heathrow new yor...\n",
       "3898  british airways ba2678 gatwick dubrovnik 26th ...\n",
       "3899  review flew british airways london heathrow wa...\n",
       "\n",
       "[3900 rows x 1 columns]"
      ]
     },
     "execution_count": 51,
     "metadata": {},
     "output_type": "execute_result"
    }
   ],
   "source": [
    "final_data"
   ]
  },
  {
   "cell_type": "markdown",
   "id": "f0bc4977",
   "metadata": {},
   "source": [
    "## After scraping data from website, we also clean data."
   ]
  },
  {
   "cell_type": "code",
   "execution_count": 52,
   "id": "b20ffd44",
   "metadata": {},
   "outputs": [],
   "source": [
    "tfidf_vect_comment = TfidfVectorizer(min_df=10)\n",
    "dtm_comment = tfidf_vect.transform(final_data['text'])"
   ]
  },
  {
   "cell_type": "code",
   "execution_count": 53,
   "id": "51018274",
   "metadata": {},
   "outputs": [
    {
     "name": "stdout",
     "output_type": "stream",
     "text": [
      "\n",
      "Original text: \n",
      "verified dreading flight negative reviews took couple minutes check business class get fast track maple leaf lounge great smooth flight attentive fas middle seats thing didnt like fact divider didnt go couldnt communicate well great film selection food not first class airlines weve flown perfectly nice no complaints would fly\n",
      "\n",
      "tfidf weights: \n",
      "\n",
      "Vectorized document shape:  (1756,) \n",
      "\n",
      "top words:\n",
      "class:\t0.317\n",
      "didnt:\t0.286\n",
      "great:\t0.264\n",
      "track:\t0.219\n",
      "couple:\t0.212\n",
      "fast:\t0.210\n",
      "complaints:\t0.200\n",
      "lounge:\t0.195\n",
      "middle:\t0.193\n",
      "fact:\t0.191\n",
      "flown:\t0.190\n",
      "weve:\t0.176\n",
      "thing:\t0.174\n",
      "food:\t0.173\n",
      "took:\t0.166\n",
      "couldnt:\t0.162\n",
      "business:\t0.160\n",
      "nice:\t0.156\n",
      "airlines:\t0.151\n",
      "seats:\t0.145\n"
     ]
    }
   ],
   "source": [
    "voc_lookup1={tfidf_vect.vocabulary_[word]:word \\\n",
    "            for word in tfidf_vect.vocabulary_}\n",
    "\n",
    "print(\"\\nOriginal text: \\n\"+final_data[\"text\"][0])\n",
    "\n",
    "print(\"\\ntfidf weights: \\n\")\n",
    "doc1=dtm_comment[0].toarray()[0]\n",
    "print(\"Vectorized document shape: \", doc1.shape, \"\\n\")\n",
    "\n",
    "# get index of top 20 words\n",
    "print(\"top words:\")\n",
    "top_words=(doc1.argsort())[::-1][0:20]\n",
    "for i in top_words:\n",
    "    print(\"{0}:\\t{1:.3f}\".format(voc_lookup1[i], doc1[i]))"
   ]
  },
  {
   "cell_type": "markdown",
   "id": "e535b135",
   "metadata": {},
   "source": [
    "## We have some overview of our comment, then we deploy the model we have trained before, the last one. Finally, we get results of those comment."
   ]
  },
  {
   "cell_type": "code",
   "execution_count": 54,
   "id": "ce16d4db",
   "metadata": {},
   "outputs": [],
   "source": [
    "y_predicted_comment=voting_clf.predict(dtm_comment)"
   ]
  },
  {
   "cell_type": "code",
   "execution_count": 55,
   "id": "98ec7aaa",
   "metadata": {},
   "outputs": [
    {
     "data": {
      "text/plain": [
       "array(['negative', 'negative', 'negative', ..., 'negative', 'negative',\n",
       "       'negative'], dtype=object)"
      ]
     },
     "execution_count": 55,
     "metadata": {},
     "output_type": "execute_result"
    }
   ],
   "source": [
    "y_predicted_comment"
   ]
  },
  {
   "cell_type": "code",
   "execution_count": 56,
   "id": "eae94e7f",
   "metadata": {},
   "outputs": [],
   "source": [
    "comment_result=list(y_predicted_comment)"
   ]
  },
  {
   "cell_type": "code",
   "execution_count": 57,
   "id": "2dcc0e84",
   "metadata": {},
   "outputs": [],
   "source": [
    "final_comment=final_data\n",
    "final_comment['sentiment']=comment_result"
   ]
  },
  {
   "cell_type": "code",
   "execution_count": 58,
   "id": "9c8e2cf0",
   "metadata": {},
   "outputs": [
    {
     "data": {
      "text/html": [
       "<div>\n",
       "<style scoped>\n",
       "    .dataframe tbody tr th:only-of-type {\n",
       "        vertical-align: middle;\n",
       "    }\n",
       "\n",
       "    .dataframe tbody tr th {\n",
       "        vertical-align: top;\n",
       "    }\n",
       "\n",
       "    .dataframe thead th {\n",
       "        text-align: right;\n",
       "    }\n",
       "</style>\n",
       "<table border=\"1\" class=\"dataframe\">\n",
       "  <thead>\n",
       "    <tr style=\"text-align: right;\">\n",
       "      <th></th>\n",
       "      <th>text</th>\n",
       "      <th>sentiment</th>\n",
       "    </tr>\n",
       "  </thead>\n",
       "  <tbody>\n",
       "    <tr>\n",
       "      <th>0</th>\n",
       "      <td>verified dreading flight negative reviews took...</td>\n",
       "      <td>negative</td>\n",
       "    </tr>\n",
       "    <tr>\n",
       "      <th>1</th>\n",
       "      <td>ive long time user air canada flight passes wo...</td>\n",
       "      <td>negative</td>\n",
       "    </tr>\n",
       "    <tr>\n",
       "      <th>2</th>\n",
       "      <td>verified plane tired clean staff dreadful saw ...</td>\n",
       "      <td>negative</td>\n",
       "    </tr>\n",
       "    <tr>\n",
       "      <th>3</th>\n",
       "      <td>verified air canada disappointed many ways sch...</td>\n",
       "      <td>negative</td>\n",
       "    </tr>\n",
       "    <tr>\n",
       "      <th>4</th>\n",
       "      <td>verified waiting gate one hour plane arrived l...</td>\n",
       "      <td>negative</td>\n",
       "    </tr>\n",
       "    <tr>\n",
       "      <th>...</th>\n",
       "      <td>...</td>\n",
       "      <td>...</td>\n",
       "    </tr>\n",
       "    <tr>\n",
       "      <th>3895</th>\n",
       "      <td>review treated incredibly well staff made trip...</td>\n",
       "      <td>positive</td>\n",
       "    </tr>\n",
       "    <tr>\n",
       "      <th>3896</th>\n",
       "      <td>review scheduled ba 114 jfk lhr 17th may condu...</td>\n",
       "      <td>negative</td>\n",
       "    </tr>\n",
       "    <tr>\n",
       "      <th>3897</th>\n",
       "      <td>review british airways london heathrow new yor...</td>\n",
       "      <td>negative</td>\n",
       "    </tr>\n",
       "    <tr>\n",
       "      <th>3898</th>\n",
       "      <td>british airways ba2678 gatwick dubrovnik 26th ...</td>\n",
       "      <td>negative</td>\n",
       "    </tr>\n",
       "    <tr>\n",
       "      <th>3899</th>\n",
       "      <td>review flew british airways london heathrow wa...</td>\n",
       "      <td>negative</td>\n",
       "    </tr>\n",
       "  </tbody>\n",
       "</table>\n",
       "<p>3900 rows × 2 columns</p>\n",
       "</div>"
      ],
      "text/plain": [
       "                                                   text sentiment\n",
       "0     verified dreading flight negative reviews took...  negative\n",
       "1     ive long time user air canada flight passes wo...  negative\n",
       "2     verified plane tired clean staff dreadful saw ...  negative\n",
       "3     verified air canada disappointed many ways sch...  negative\n",
       "4     verified waiting gate one hour plane arrived l...  negative\n",
       "...                                                 ...       ...\n",
       "3895  review treated incredibly well staff made trip...  positive\n",
       "3896  review scheduled ba 114 jfk lhr 17th may condu...  negative\n",
       "3897  review british airways london heathrow new yor...  negative\n",
       "3898  british airways ba2678 gatwick dubrovnik 26th ...  negative\n",
       "3899  review flew british airways london heathrow wa...  negative\n",
       "\n",
       "[3900 rows x 2 columns]"
      ]
     },
     "execution_count": 58,
     "metadata": {},
     "output_type": "execute_result"
    }
   ],
   "source": [
    "final_comment"
   ]
  },
  {
   "cell_type": "markdown",
   "id": "e253b384",
   "metadata": {},
   "source": [
    "## From results, we can sum up Air Canada and British Airways have not good companies since most of their comments are negative."
   ]
  },
  {
   "cell_type": "code",
   "execution_count": 59,
   "id": "c7e6564d",
   "metadata": {},
   "outputs": [
    {
     "data": {
      "text/html": [
       "<div>\n",
       "<style scoped>\n",
       "    .dataframe tbody tr th:only-of-type {\n",
       "        vertical-align: middle;\n",
       "    }\n",
       "\n",
       "    .dataframe tbody tr th {\n",
       "        vertical-align: top;\n",
       "    }\n",
       "\n",
       "    .dataframe thead th {\n",
       "        text-align: right;\n",
       "    }\n",
       "</style>\n",
       "<table border=\"1\" class=\"dataframe\">\n",
       "  <thead>\n",
       "    <tr style=\"text-align: right;\">\n",
       "      <th></th>\n",
       "      <th>sentiment</th>\n",
       "    </tr>\n",
       "    <tr>\n",
       "      <th>sentiment</th>\n",
       "      <th></th>\n",
       "    </tr>\n",
       "  </thead>\n",
       "  <tbody>\n",
       "    <tr>\n",
       "      <th>negative</th>\n",
       "      <td>3693</td>\n",
       "    </tr>\n",
       "    <tr>\n",
       "      <th>neutral</th>\n",
       "      <td>13</td>\n",
       "    </tr>\n",
       "    <tr>\n",
       "      <th>positive</th>\n",
       "      <td>194</td>\n",
       "    </tr>\n",
       "  </tbody>\n",
       "</table>\n",
       "</div>"
      ],
      "text/plain": [
       "           sentiment\n",
       "sentiment           \n",
       "negative        3693\n",
       "neutral           13\n",
       "positive         194"
      ]
     },
     "execution_count": 59,
     "metadata": {},
     "output_type": "execute_result"
    }
   ],
   "source": [
    "overall_comment = final_comment.groupby(['sentiment']).agg({'sentiment':'count'})\n",
    "overall_comment"
   ]
  },
  {
   "cell_type": "markdown",
   "id": "961969a6",
   "metadata": {},
   "source": [
    "## Use LDA we have built before to find reason of customer hate those two companies and give companies some suggestions"
   ]
  },
  {
   "cell_type": "code",
   "execution_count": 60,
   "id": "35231490",
   "metadata": {},
   "outputs": [
    {
     "data": {
      "text/plain": [
       "[(0,\n",
       "  '0.041*\"flight\" + 0.021*\"service\" + 0.018*\"customer\" + 0.015*\"hours\" + 0.012*\"thank\" + 0.012*\"cancelled\" + 0.011*\"hour\" + 0.011*\"gate\" + 0.011*\"get\" + 0.011*\"hold\"'),\n",
       " (1,\n",
       "  '0.038*\"flight\" + 0.023*\"thanks\" + 0.016*\"flights\" + 0.013*\"cancelled\" + 0.013*\"get\" + 0.008*\"im\" + 0.007*\"like\" + 0.007*\"help\" + 0.007*\"bag\" + 0.007*\"back\"'),\n",
       " (2,\n",
       "  '0.023*\"flight\" + 0.018*\"time\" + 0.012*\"please\" + 0.012*\"help\" + 0.011*\"get\" + 0.010*\"need\" + 0.010*\"us\" + 0.009*\"airline\" + 0.008*\"cant\" + 0.008*\"one\"')]"
      ]
     },
     "execution_count": 60,
     "metadata": {},
     "output_type": "execute_result"
    }
   ],
   "source": [
    "from gensim.corpora import Dictionary\n",
    "tf1 = tf_vectorizer_lad.transform(final_data['text'])\n",
    "common_dictionary = dictionary.doc2bow(final_data['text'])\n",
    "ldamodel.print_topics()"
   ]
  },
  {
   "cell_type": "code",
   "execution_count": null,
   "id": "f2a236b9",
   "metadata": {},
   "outputs": [],
   "source": []
  }
 ],
 "metadata": {
  "kernelspec": {
   "display_name": "Python 3 (ipykernel)",
   "language": "python",
   "name": "python3"
  },
  "language_info": {
   "codemirror_mode": {
    "name": "ipython",
    "version": 3
   },
   "file_extension": ".py",
   "mimetype": "text/x-python",
   "name": "python",
   "nbconvert_exporter": "python",
   "pygments_lexer": "ipython3",
   "version": "3.9.12"
  },
  "toc": {
   "base_numbering": 1,
   "nav_menu": {},
   "number_sections": true,
   "sideBar": true,
   "skip_h1_title": false,
   "title_cell": "Table of Contents",
   "title_sidebar": "Contents",
   "toc_cell": false,
   "toc_position": {},
   "toc_section_display": true,
   "toc_window_display": false
  }
 },
 "nbformat": 4,
 "nbformat_minor": 5
}
